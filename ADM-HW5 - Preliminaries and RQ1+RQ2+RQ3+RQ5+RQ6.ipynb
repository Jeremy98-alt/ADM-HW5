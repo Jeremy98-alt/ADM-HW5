{
 "cells": [
  {
   "cell_type": "code",
   "execution_count": 131,
   "metadata": {},
   "outputs": [],
   "source": [
    "import pandas as pd\n",
    "from collections import defaultdict\n",
    "import matplotlib.pyplot as plt\n",
    "import random\n",
    "import tqdm"
   ]
  },
  {
   "cell_type": "markdown",
   "metadata": {},
   "source": [
    "# Visualize the datasets and manage the dataset"
   ]
  },
  {
   "cell_type": "code",
   "execution_count": 132,
   "metadata": {},
   "outputs": [
    {
     "data": {
      "text/html": [
       "<div>\n",
       "<style scoped>\n",
       "    .dataframe tbody tr th:only-of-type {\n",
       "        vertical-align: middle;\n",
       "    }\n",
       "\n",
       "    .dataframe tbody tr th {\n",
       "        vertical-align: top;\n",
       "    }\n",
       "\n",
       "    .dataframe thead th {\n",
       "        text-align: right;\n",
       "    }\n",
       "</style>\n",
       "<table border=\"1\" class=\"dataframe\">\n",
       "  <thead>\n",
       "    <tr style=\"text-align: right;\">\n",
       "      <th></th>\n",
       "      <th>source</th>\n",
       "      <th>dest</th>\n",
       "    </tr>\n",
       "  </thead>\n",
       "  <tbody>\n",
       "    <tr>\n",
       "      <th>0</th>\n",
       "      <td>95</td>\n",
       "      <td>1185516</td>\n",
       "    </tr>\n",
       "    <tr>\n",
       "      <th>1</th>\n",
       "      <td>108</td>\n",
       "      <td>1059989</td>\n",
       "    </tr>\n",
       "    <tr>\n",
       "      <th>2</th>\n",
       "      <td>108</td>\n",
       "      <td>1062426</td>\n",
       "    </tr>\n",
       "    <tr>\n",
       "      <th>3</th>\n",
       "      <td>108</td>\n",
       "      <td>1161925</td>\n",
       "    </tr>\n",
       "    <tr>\n",
       "      <th>4</th>\n",
       "      <td>134</td>\n",
       "      <td>541222</td>\n",
       "    </tr>\n",
       "  </tbody>\n",
       "</table>\n",
       "</div>"
      ],
      "text/plain": [
       "   source     dest\n",
       "0      95  1185516\n",
       "1     108  1059989\n",
       "2     108  1062426\n",
       "3     108  1161925\n",
       "4     134   541222"
      ]
     },
     "execution_count": 132,
     "metadata": {},
     "output_type": "execute_result"
    }
   ],
   "source": [
    "edges = pd.read_csv(\"wikigraph_reduced.csv\", sep=\"\\t\", usecols = [\"0\", \"1\"])\n",
    "edges.columns = [\"source\", \"dest\"]\n",
    "edges.head()"
   ]
  },
  {
   "cell_type": "markdown",
   "metadata": {},
   "source": [
    "Read the pages names."
   ]
  },
  {
   "cell_type": "code",
   "execution_count": 133,
   "metadata": {},
   "outputs": [
    {
     "data": {
      "text/html": [
       "<div>\n",
       "<style scoped>\n",
       "    .dataframe tbody tr th:only-of-type {\n",
       "        vertical-align: middle;\n",
       "    }\n",
       "\n",
       "    .dataframe tbody tr th {\n",
       "        vertical-align: top;\n",
       "    }\n",
       "\n",
       "    .dataframe thead th {\n",
       "        text-align: right;\n",
       "    }\n",
       "</style>\n",
       "<table border=\"1\" class=\"dataframe\">\n",
       "  <thead>\n",
       "    <tr style=\"text-align: right;\">\n",
       "      <th></th>\n",
       "      <th>name</th>\n",
       "    </tr>\n",
       "    <tr>\n",
       "      <th>node</th>\n",
       "      <th></th>\n",
       "    </tr>\n",
       "  </thead>\n",
       "  <tbody>\n",
       "    <tr>\n",
       "      <th>0</th>\n",
       "      <td>Chiasmal syndrome</td>\n",
       "    </tr>\n",
       "    <tr>\n",
       "      <th>1</th>\n",
       "      <td>Kleroterion</td>\n",
       "    </tr>\n",
       "    <tr>\n",
       "      <th>2</th>\n",
       "      <td>Pinakion</td>\n",
       "    </tr>\n",
       "    <tr>\n",
       "      <th>3</th>\n",
       "      <td>LyndonHochschildSerre spectral sequence</td>\n",
       "    </tr>\n",
       "    <tr>\n",
       "      <th>4</th>\n",
       "      <td>Zariski's main theorem</td>\n",
       "    </tr>\n",
       "    <tr>\n",
       "      <th>...</th>\n",
       "      <td>...</td>\n",
       "    </tr>\n",
       "    <tr>\n",
       "      <th>1791484</th>\n",
       "      <td>Noadiah Russell (Yale founder)</td>\n",
       "    </tr>\n",
       "    <tr>\n",
       "      <th>1791485</th>\n",
       "      <td>Cornus officinalis</td>\n",
       "    </tr>\n",
       "    <tr>\n",
       "      <th>1791486</th>\n",
       "      <td>Peter Grummitt</td>\n",
       "    </tr>\n",
       "    <tr>\n",
       "      <th>1791487</th>\n",
       "      <td>Baron Estcourt</td>\n",
       "    </tr>\n",
       "    <tr>\n",
       "      <th>1791488</th>\n",
       "      <td>Catherine Dubosc</td>\n",
       "    </tr>\n",
       "  </tbody>\n",
       "</table>\n",
       "<p>1791489 rows × 1 columns</p>\n",
       "</div>"
      ],
      "text/plain": [
       "                                            name\n",
       "node                                            \n",
       "0                              Chiasmal syndrome\n",
       "1                                    Kleroterion\n",
       "2                                       Pinakion\n",
       "3        LyndonHochschildSerre spectral sequence\n",
       "4                         Zariski's main theorem\n",
       "...                                          ...\n",
       "1791484           Noadiah Russell (Yale founder)\n",
       "1791485                       Cornus officinalis\n",
       "1791486                           Peter Grummitt\n",
       "1791487                           Baron Estcourt\n",
       "1791488                         Catherine Dubosc\n",
       "\n",
       "[1791489 rows x 1 columns]"
      ]
     },
     "execution_count": 133,
     "metadata": {},
     "output_type": "execute_result"
    }
   ],
   "source": [
    "pages_names = pd.read_csv(\"wiki-topcats-page-names.txt\", names=[\"node name\"])\n",
    "pages_names\n",
    "\n",
    "pages_names['node'] = [s.split()[0] for s in list(pages_names['node name']) ]\n",
    "pages_names['name'] = [' '.join(s.split()[1:]) for s in list(pages_names['node name'])]\n",
    "\n",
    "pages_names = pages_names.set_index(\"node\").drop('node name', axis=1)\n",
    "pages_names"
   ]
  },
  {
   "cell_type": "markdown",
   "metadata": {},
   "source": [
    "Read each line of the \"wiki-topcats-categories.txt\" and create the dataset"
   ]
  },
  {
   "cell_type": "code",
   "execution_count": 134,
   "metadata": {},
   "outputs": [
    {
     "data": {
      "text/html": [
       "<div>\n",
       "<style scoped>\n",
       "    .dataframe tbody tr th:only-of-type {\n",
       "        vertical-align: middle;\n",
       "    }\n",
       "\n",
       "    .dataframe tbody tr th {\n",
       "        vertical-align: top;\n",
       "    }\n",
       "\n",
       "    .dataframe thead th {\n",
       "        text-align: right;\n",
       "    }\n",
       "</style>\n",
       "<table border=\"1\" class=\"dataframe\">\n",
       "  <thead>\n",
       "    <tr style=\"text-align: right;\">\n",
       "      <th></th>\n",
       "      <th>Category</th>\n",
       "      <th>Pages List</th>\n",
       "    </tr>\n",
       "  </thead>\n",
       "  <tbody>\n",
       "    <tr>\n",
       "      <th>0</th>\n",
       "      <td>Buprestoidea</td>\n",
       "      <td>[301, 302, 303, 304, 305, 306, 307, 308, 309, ...</td>\n",
       "    </tr>\n",
       "    <tr>\n",
       "      <th>1</th>\n",
       "      <td>People_from_Worcester</td>\n",
       "      <td>[1056, 1057, 1058, 1059, 1060, 60971, 76515, 7...</td>\n",
       "    </tr>\n",
       "    <tr>\n",
       "      <th>2</th>\n",
       "      <td>Skin_conditions_resulting_from_physical_factors</td>\n",
       "      <td>[971, 973, 1166, 1167, 1168, 1169, 1170, 1171,...</td>\n",
       "    </tr>\n",
       "    <tr>\n",
       "      <th>3</th>\n",
       "      <td>Visual_kei_bands</td>\n",
       "      <td>[1297, 1300, 1311, 1312, 1313, 1314, 1315, 131...</td>\n",
       "    </tr>\n",
       "    <tr>\n",
       "      <th>4</th>\n",
       "      <td>Japanese_rock_music_groups</td>\n",
       "      <td>[1297, 1300, 1313, 1314, 1315, 1316, 1319, 132...</td>\n",
       "    </tr>\n",
       "    <tr>\n",
       "      <th>...</th>\n",
       "      <td>...</td>\n",
       "      <td>...</td>\n",
       "    </tr>\n",
       "    <tr>\n",
       "      <th>17359</th>\n",
       "      <td>British_science_fiction_novels</td>\n",
       "      <td>[16110, 24545, 39814, 67923, 108629, 108630, 1...</td>\n",
       "    </tr>\n",
       "    <tr>\n",
       "      <th>17360</th>\n",
       "      <td>Television_soundtracks</td>\n",
       "      <td>[1117, 110192, 110376, 110377, 110380, 110395,...</td>\n",
       "    </tr>\n",
       "    <tr>\n",
       "      <th>17361</th>\n",
       "      <td>Diptera_of_North_America</td>\n",
       "      <td>[279, 280, 283, 31110, 31129, 31133, 31138, 31...</td>\n",
       "    </tr>\n",
       "    <tr>\n",
       "      <th>17362</th>\n",
       "      <td>Diptera_of_Asia</td>\n",
       "      <td>[279, 31129, 31133, 31134, 31135, 31136, 31137...</td>\n",
       "    </tr>\n",
       "    <tr>\n",
       "      <th>17363</th>\n",
       "      <td>Tachinidae</td>\n",
       "      <td>[429765, 429776, 860398, 1427707, 1427710, 142...</td>\n",
       "    </tr>\n",
       "  </tbody>\n",
       "</table>\n",
       "<p>17364 rows × 2 columns</p>\n",
       "</div>"
      ],
      "text/plain": [
       "                                              Category  \\\n",
       "0                                         Buprestoidea   \n",
       "1                                People_from_Worcester   \n",
       "2      Skin_conditions_resulting_from_physical_factors   \n",
       "3                                     Visual_kei_bands   \n",
       "4                           Japanese_rock_music_groups   \n",
       "...                                                ...   \n",
       "17359                   British_science_fiction_novels   \n",
       "17360                           Television_soundtracks   \n",
       "17361                         Diptera_of_North_America   \n",
       "17362                                  Diptera_of_Asia   \n",
       "17363                                       Tachinidae   \n",
       "\n",
       "                                              Pages List  \n",
       "0      [301, 302, 303, 304, 305, 306, 307, 308, 309, ...  \n",
       "1      [1056, 1057, 1058, 1059, 1060, 60971, 76515, 7...  \n",
       "2      [971, 973, 1166, 1167, 1168, 1169, 1170, 1171,...  \n",
       "3      [1297, 1300, 1311, 1312, 1313, 1314, 1315, 131...  \n",
       "4      [1297, 1300, 1313, 1314, 1315, 1316, 1319, 132...  \n",
       "...                                                  ...  \n",
       "17359  [16110, 24545, 39814, 67923, 108629, 108630, 1...  \n",
       "17360  [1117, 110192, 110376, 110377, 110380, 110395,...  \n",
       "17361  [279, 280, 283, 31110, 31129, 31133, 31138, 31...  \n",
       "17362  [279, 31129, 31133, 31134, 31135, 31136, 31137...  \n",
       "17363  [429765, 429776, 860398, 1427707, 1427710, 142...  \n",
       "\n",
       "[17364 rows x 2 columns]"
      ]
     },
     "execution_count": 134,
     "metadata": {},
     "output_type": "execute_result"
    }
   ],
   "source": [
    "categories = pd.read_csv(\"wiki-topcats-categories.txt\", sep=\";\", names = [\"Category\", \"Pages List\"])\n",
    "categories[\"Category\"] = categories.Category.apply(lambda x: x[9:])\n",
    "categories[\"Pages List\"] = categories[\"Pages List\"].apply(lambda x: x.split())\n",
    "categories"
   ]
  },
  {
   "cell_type": "markdown",
   "metadata": {},
   "source": [
    "You will notice that one article might belong to a single category or multiple ones. In the case of multiple appearance, you break the ties uniformly at random. Please, do it before solving any task in the homework."
   ]
  },
  {
   "cell_type": "code",
   "execution_count": 135,
   "metadata": {},
   "outputs": [],
   "source": [
    "cats = list(categories[\"Category\"])\n",
    "pages_list = list(categories[\"Pages List\"])"
   ]
  },
  {
   "cell_type": "markdown",
   "metadata": {},
   "source": [
    "create a vocabulary in order to create the clean categories without replicates."
   ]
  },
  {
   "cell_type": "code",
   "execution_count": 136,
   "metadata": {},
   "outputs": [],
   "source": [
    "nodes = {}\n",
    "for i, list_pages in enumerate(pages_list):\n",
    "    for node in list_pages:\n",
    "        if node not in nodes:\n",
    "            nodes[node] = []\n",
    "        nodes[node].append(i)"
   ]
  },
  {
   "cell_type": "markdown",
   "metadata": {},
   "source": [
    "Choose uniformly at random a category where the page will be belong, then create the dictionary.\n",
    "\n",
    "Remove also the categories that haven't any node in the graph."
   ]
  },
  {
   "cell_type": "code",
   "execution_count": 137,
   "metadata": {},
   "outputs": [],
   "source": [
    "sources = set(edges[\"source\"])\n",
    "dests = set(edges[\"dest\"])\n",
    "red_nodes = sources.union(dests)"
   ]
  },
  {
   "cell_type": "code",
   "execution_count": 138,
   "metadata": {},
   "outputs": [],
   "source": [
    "import random\n",
    "\n",
    "nodes2 = defaultdict(list)\n",
    "for node in nodes.keys():\n",
    "    cat = random.sample(nodes[node], 1)[0]\n",
    "    if int(node) in red_nodes:\n",
    "        nodes2[cat].append(node)\n",
    "    # else:\n",
    "        # drop in the dataframe pages_names the useless node not present in the graph  "
   ]
  },
  {
   "cell_type": "code",
   "execution_count": 139,
   "metadata": {},
   "outputs": [
    {
     "data": {
      "text/html": [
       "<div>\n",
       "<style scoped>\n",
       "    .dataframe tbody tr th:only-of-type {\n",
       "        vertical-align: middle;\n",
       "    }\n",
       "\n",
       "    .dataframe tbody tr th {\n",
       "        vertical-align: top;\n",
       "    }\n",
       "\n",
       "    .dataframe thead th {\n",
       "        text-align: right;\n",
       "    }\n",
       "</style>\n",
       "<table border=\"1\" class=\"dataframe\">\n",
       "  <thead>\n",
       "    <tr style=\"text-align: right;\">\n",
       "      <th></th>\n",
       "      <th>category</th>\n",
       "      <th>pages list</th>\n",
       "    </tr>\n",
       "  </thead>\n",
       "  <tbody>\n",
       "    <tr>\n",
       "      <th>0</th>\n",
       "      <td>Yeovil_Town_F.C._players</td>\n",
       "      <td>[76871, 83975, 727951, 84640, 78014, 79597, 78...</td>\n",
       "    </tr>\n",
       "    <tr>\n",
       "      <th>1</th>\n",
       "      <td>Huddersfield_Town_F.C._players</td>\n",
       "      <td>[79069, 84396, 74402, 482810, 76945, 80654, 81...</td>\n",
       "    </tr>\n",
       "    <tr>\n",
       "      <th>2</th>\n",
       "      <td>Worcester_City_F.C._players</td>\n",
       "      <td>[79139, 83705, 84298, 89385, 1445606]</td>\n",
       "    </tr>\n",
       "    <tr>\n",
       "      <th>3</th>\n",
       "      <td>Association_football_midfielders</td>\n",
       "      <td>[79143, 737956, 738199, 27588, 27200, 27553, 2...</td>\n",
       "    </tr>\n",
       "    <tr>\n",
       "      <th>4</th>\n",
       "      <td>England_youth_international_footballers</td>\n",
       "      <td>[80237, 82696, 82790, 82883, 80645, 84208, 848...</td>\n",
       "    </tr>\n",
       "    <tr>\n",
       "      <th>...</th>\n",
       "      <td>...</td>\n",
       "      <td>...</td>\n",
       "    </tr>\n",
       "    <tr>\n",
       "      <th>5241</th>\n",
       "      <td>Nahuatl_words_and_phrases</td>\n",
       "      <td>[1678297]</td>\n",
       "    </tr>\n",
       "    <tr>\n",
       "      <th>5242</th>\n",
       "      <td>German_lugers</td>\n",
       "      <td>[1699804]</td>\n",
       "    </tr>\n",
       "    <tr>\n",
       "      <th>5243</th>\n",
       "      <td>People_of_the_Chechen_wars</td>\n",
       "      <td>[1706096, 1706098]</td>\n",
       "    </tr>\n",
       "    <tr>\n",
       "      <th>5244</th>\n",
       "      <td>Alumni_of_King's_College,_Cambridge</td>\n",
       "      <td>[1770965]</td>\n",
       "    </tr>\n",
       "    <tr>\n",
       "      <th>5245</th>\n",
       "      <td>Sri_Lankan_Hindus</td>\n",
       "      <td>[1787565]</td>\n",
       "    </tr>\n",
       "  </tbody>\n",
       "</table>\n",
       "<p>5246 rows × 2 columns</p>\n",
       "</div>"
      ],
      "text/plain": [
       "                                     category  \\\n",
       "0                    Yeovil_Town_F.C._players   \n",
       "1              Huddersfield_Town_F.C._players   \n",
       "2                 Worcester_City_F.C._players   \n",
       "3            Association_football_midfielders   \n",
       "4     England_youth_international_footballers   \n",
       "...                                       ...   \n",
       "5241                Nahuatl_words_and_phrases   \n",
       "5242                            German_lugers   \n",
       "5243               People_of_the_Chechen_wars   \n",
       "5244      Alumni_of_King's_College,_Cambridge   \n",
       "5245                        Sri_Lankan_Hindus   \n",
       "\n",
       "                                             pages list  \n",
       "0     [76871, 83975, 727951, 84640, 78014, 79597, 78...  \n",
       "1     [79069, 84396, 74402, 482810, 76945, 80654, 81...  \n",
       "2                 [79139, 83705, 84298, 89385, 1445606]  \n",
       "3     [79143, 737956, 738199, 27588, 27200, 27553, 2...  \n",
       "4     [80237, 82696, 82790, 82883, 80645, 84208, 848...  \n",
       "...                                                 ...  \n",
       "5241                                          [1678297]  \n",
       "5242                                          [1699804]  \n",
       "5243                                 [1706096, 1706098]  \n",
       "5244                                          [1770965]  \n",
       "5245                                          [1787565]  \n",
       "\n",
       "[5246 rows x 2 columns]"
      ]
     },
     "execution_count": 139,
     "metadata": {},
     "output_type": "execute_result"
    }
   ],
   "source": [
    "new_categories = pd.DataFrame()\n",
    "new_categories['category'] = nodes2.keys()\n",
    "new_categories['pages list'] = nodes2.values()\n",
    "\n",
    "def set_category(x, categories):\n",
    "    return categories.loc[x, \"Category\"]\n",
    "    \n",
    "new_categories[\"category\"] = new_categories.category.apply(lambda x: set_category(x, categories)) # set the category not the integer value\n",
    "new_categories"
   ]
  },
  {
   "cell_type": "markdown",
   "metadata": {},
   "source": [
    "# RQ1"
   ]
  },
  {
   "cell_type": "markdown",
   "metadata": {},
   "source": [
    "Build the graph G=(V, E), where V is the set of articles and E the hyperlinks among them."
   ]
  },
  {
   "cell_type": "code",
   "execution_count": 140,
   "metadata": {},
   "outputs": [],
   "source": [
    "import networkx as nx"
   ]
  },
  {
   "cell_type": "markdown",
   "metadata": {},
   "source": [
    "create the graph, first we consider if the edges dataframe contents a graph directed or not.."
   ]
  },
  {
   "cell_type": "code",
   "execution_count": 141,
   "metadata": {},
   "outputs": [],
   "source": [
    "def isDirected(edges):\n",
    "    if len(set(list(edges['source'])).intersection(set(list(edges['dest'])))) > 0:\n",
    "        return \"directed\"\n",
    "    else:\n",
    "        return \"undirected\""
   ]
  },
  {
   "cell_type": "code",
   "execution_count": 142,
   "metadata": {},
   "outputs": [],
   "source": [
    "if isDirected(edges) == \"directed\":\n",
    "    G = nx.DiGraph(directed=True)\n",
    "else:\n",
    "    G = nx.Graph()"
   ]
  },
  {
   "cell_type": "code",
   "execution_count": 143,
   "metadata": {},
   "outputs": [],
   "source": [
    "sources = list(edges['source'])\n",
    "dests = list(edges['dest'])\n",
    "\n",
    "for i in range(len(edges)):\n",
    "    G.add_node(sources[i], name = pages_names.loc[str(sources[i]), 'name']) # source\n",
    "    G.add_node(dests[i], name = pages_names.loc[str(dests[i]), 'name']) # dest\n",
    "    \n",
    "    G.add_edge(sources[i], dests[i], weight=1)"
   ]
  },
  {
   "cell_type": "code",
   "execution_count": 144,
   "metadata": {},
   "outputs": [
    {
     "data": {
      "text/plain": [
       "'Name: \\nType: DiGraph\\nNumber of nodes: 98343\\nNumber of edges: 483094\\nAverage in degree:   4.9123\\nAverage out degree:   4.9123'"
      ]
     },
     "execution_count": 144,
     "metadata": {},
     "output_type": "execute_result"
    }
   ],
   "source": [
    "nx.info(G)"
   ]
  },
  {
   "cell_type": "code",
   "execution_count": 145,
   "metadata": {},
   "outputs": [
    {
     "name": "stdout",
     "output_type": "stream",
     "text": [
      "The number of nodes is: 98343 and the number of edges is: 483094\n"
     ]
    }
   ],
   "source": [
    "print(f\"The number of nodes is: {G.number_of_nodes()} and the number of edges is: {G.number_of_edges()}\")"
   ]
  },
  {
   "cell_type": "code",
   "execution_count": 146,
   "metadata": {},
   "outputs": [
    {
     "name": "stdout",
     "output_type": "stream",
     "text": [
      "The Graph is directed\n"
     ]
    }
   ],
   "source": [
    "if nx.is_directed(G):\n",
    "    print(\"The Graph is directed\")\n",
    "else:\n",
    "    print(\"The Graph is undirected\")"
   ]
  },
  {
   "cell_type": "markdown",
   "metadata": {},
   "source": [
    "for the directed graph to understand if the graph is sparse or not, we should use this formula:\n",
    "\n",
    "$D = \\frac{|E|}{|V|(|V|-1)}$\n",
    "\n",
    "a dense graph is a graph in which the number of edges is close to the maximal number of edges."
   ]
  },
  {
   "cell_type": "code",
   "execution_count": 147,
   "metadata": {},
   "outputs": [
    {
     "name": "stdout",
     "output_type": "stream",
     "text": [
      "The graph density is: 4.9951571365597335e-05, so the graph is sparse\n"
     ]
    }
   ],
   "source": [
    "# we can use also nx.density(G)\n",
    "D = (G.number_of_edges())/(G.number_of_nodes()*(G.number_of_nodes()-1))\n",
    "print(f\"The graph density is: {D}, so the graph is sparse\")"
   ]
  },
  {
   "cell_type": "markdown",
   "metadata": {},
   "source": [
    "the average of link per article is.. (considering the **degree** of each node)"
   ]
  },
  {
   "cell_type": "code",
   "execution_count": 148,
   "metadata": {},
   "outputs": [
    {
     "data": {
      "text/plain": [
       "9.824674862471147"
      ]
     },
     "execution_count": 148,
     "metadata": {},
     "output_type": "execute_result"
    }
   ],
   "source": [
    "degrees = dict(G.degree())\n",
    "sum(degrees.values())/float(len(G))"
   ]
  },
  {
   "cell_type": "markdown",
   "metadata": {},
   "source": [
    "the result presents above include in_degree and out_degree of a graph. We can consider also the in_degree and out_degree formula. But, you could use also the native function of networkx"
   ]
  },
  {
   "cell_type": "code",
   "execution_count": 149,
   "metadata": {},
   "outputs": [
    {
     "name": "stdout",
     "output_type": "stream",
     "text": [
      "the indegree = 4.912337431235573 and the outdegree = 4.912337431235573\n"
     ]
    }
   ],
   "source": [
    "indegree = sum(dict(G.in_degree()).values())/float(len(G))\n",
    "outdegree = sum(dict(G.out_degree()).values())/float(len(G))\n",
    "print(f\"the indegree = {indegree} and the outdegree = {outdegree}\")"
   ]
  },
  {
   "cell_type": "markdown",
   "metadata": {},
   "source": [
    "Visualize the **nodes degree distribution**"
   ]
  },
  {
   "cell_type": "code",
   "execution_count": 20,
   "metadata": {},
   "outputs": [],
   "source": [
    "degrees = dict(nx.degree(G))\n",
    "\n",
    "NodeDistro = pd.DataFrame()\n",
    "\n",
    "NodeDistro['node'] = degrees.keys()\n",
    "NodeDistro['degree'] = degrees.values()"
   ]
  },
  {
   "cell_type": "code",
   "execution_count": 21,
   "metadata": {},
   "outputs": [
    {
     "data": {
      "image/png": "[encoded data removed]",
      "text/plain": [
       "<Figure size 576x288 with 1 Axes>"
      ]
     },
     "metadata": {
      "needs_background": "light"
     },
     "output_type": "display_data"
    }
   ],
   "source": [
    "NodeDistro.groupby([NodeDistro.degree]).node.count().head(30).plot.bar(figsize=(8,4))\n",
    "    \n",
    "#create the plot\n",
    "plt.grid()\n",
    "plt.xlabel('Degree')\n",
    "plt.ylabel('Number of Nodes')\n",
    "plt.title('Nodes degree distribution')\n",
    "plt.grid(b=None)\n",
    "plt.show()"
   ]
  },
  {
   "cell_type": "markdown",
   "metadata": {},
   "source": [
    "# RQ2"
   ]
  },
  {
   "cell_type": "code",
   "execution_count": 22,
   "metadata": {},
   "outputs": [],
   "source": [
    "sources = list(edges['source'])\n",
    "dests = list(edges['dest'])"
   ]
  },
  {
   "cell_type": "markdown",
   "metadata": {},
   "source": [
    "choose in input a page v."
   ]
  },
  {
   "cell_type": "code",
   "execution_count": 23,
   "metadata": {},
   "outputs": [
    {
     "name": "stdout",
     "output_type": "stream",
     "text": [
      "Choose a node to start the BFS: 95\n"
     ]
    },
    {
     "data": {
      "text/plain": [
       "95"
      ]
     },
     "execution_count": 23,
     "metadata": {},
     "output_type": "execute_result"
    }
   ],
   "source": [
    "v = int(input(\"Choose a node to start the BFS: \"))\n",
    "v"
   ]
  },
  {
   "cell_type": "markdown",
   "metadata": {},
   "source": [
    "A number of clicks d."
   ]
  },
  {
   "cell_type": "code",
   "execution_count": 24,
   "metadata": {},
   "outputs": [
    {
     "name": "stdout",
     "output_type": "stream",
     "text": [
      "Choose a number of clicks: 2\n"
     ]
    },
    {
     "data": {
      "text/plain": [
       "2"
      ]
     },
     "execution_count": 24,
     "metadata": {},
     "output_type": "execute_result"
    }
   ],
   "source": [
    "d = int(input(\"Choose a number of clicks: \"))\n",
    "d"
   ]
  },
  {
   "cell_type": "code",
   "execution_count": 25,
   "metadata": {},
   "outputs": [],
   "source": [
    "def initialization(G):\n",
    "    nodes = list(G.nodes()) # return the list of nodes\n",
    "    dist = [float('inf') for x in range(len(nodes))] # initialize the distance to inf in order to avoid the distance = 0, that means other thing\n",
    "    visited = [False for x in range(len(nodes))] # initialize the visited = False\n",
    "    return nodes, dist, visited\n",
    "\n",
    "def BFS(G, v, d):\n",
    "    nodes, dist, visited = initialization(G)\n",
    "    \n",
    "    queue = [] # create queue for BFS\n",
    "    \n",
    "    # start BFS\n",
    "    queue.append(v)\n",
    "    visited[nodes.index(v)] = True\n",
    "    dist[nodes.index(v)] = 0\n",
    "    \n",
    "    i = 0\n",
    "    while queue and i <= d:\n",
    "        s = queue.pop(0)\n",
    "        \n",
    "        for neigh in nx.neighbors(G, s):\n",
    "            if visited[nodes.index(neigh)] == False:\n",
    "                visited[nodes.index(neigh)] = True\n",
    "                dist[nodes.index(neigh)] = dist[nodes.index(s)] + 1\n",
    "                queue.append(neigh)\n",
    "        i+=1\n",
    "    dist = list(filter(lambda a: a != float('inf'), dist))\n",
    "        \n",
    "    return dist, nodes"
   ]
  },
  {
   "cell_type": "code",
   "execution_count": 26,
   "metadata": {},
   "outputs": [
    {
     "name": "stdout",
     "output_type": "stream",
     "text": [
      "the set of all pages that you can achieve with 2 are ['Born Innocent (Redd Kross album)', 'Beyond the Valley of the Dolls', 'Linda Blair', 'Stu Phillips (composer)', 'Robert Tasker', 'Humphrey Bogart']\n"
     ]
    }
   ],
   "source": [
    "dist, nodes = BFS(G, v, d)\n",
    "indices = [i for i, x in enumerate(dist) if x == d]\n",
    "nodes = [pages_names.loc[str(x), \"name\"] for i, x in enumerate(nodes) if i in indices]\n",
    "print(f\"the set of all pages that you can achieve with {d} are {nodes}\")"
   ]
  },
  {
   "cell_type": "markdown",
   "metadata": {},
   "source": [
    "# RQ3"
   ]
  },
  {
   "cell_type": "markdown",
   "metadata": {},
   "source": [
    "returns the minimum number of clicks required to reach all pages in p, starting from the page v, corresponding to the most central article, according to the in-degree centrality, in C.\n",
    "\n",
    "According to the professors request, I prefer using the betweeness centrality in order to have the most centered node in the graph."
   ]
  },
  {
   "cell_type": "code",
   "execution_count": 74,
   "metadata": {},
   "outputs": [],
   "source": [
    "ctg = list(new_categories[\"category\"])\n",
    "pg_lst = list(new_categories[\"pages list\"])\n",
    "\n",
    "union_lst = [ [x, list(map(int,pg_lst[i]))] for i, x in enumerate(ctg) ]\n",
    "\n",
    "my_dict = {x[0]: x[1] for x in union_lst}"
   ]
  },
  {
   "cell_type": "markdown",
   "metadata": {},
   "source": [
    "Choose randomly the category in order to find the minimum number of clicks to achieve all nodes in one category."
   ]
  },
  {
   "cell_type": "code",
   "execution_count": 75,
   "metadata": {},
   "outputs": [
    {
     "data": {
      "text/plain": [
       "'UK_MPs_1974'"
      ]
     },
     "execution_count": 75,
     "metadata": {},
     "output_type": "execute_result"
    }
   ],
   "source": [
    "cat = random.sample(my_dict.keys(), 1)[0]\n",
    "cat"
   ]
  },
  {
   "cell_type": "markdown",
   "metadata": {},
   "source": [
    "Consider the subgraph of G interesting to the selected category chose."
   ]
  },
  {
   "cell_type": "code",
   "execution_count": 76,
   "metadata": {},
   "outputs": [
    {
     "name": "stdout",
     "output_type": "stream",
     "text": [
      "the number of pages are 49 and the number of edges are 5\n"
     ]
    }
   ],
   "source": [
    "new_cat = G.subgraph(my_dict[cat])\n",
    "print(f\"the number of pages are {len(new_cat)} and the number of edges are {len(new_cat.edges)}\")"
   ]
  },
  {
   "cell_type": "markdown",
   "metadata": {},
   "source": [
    "Considering the node most centered in the graph is.. with the in-degree centrality."
   ]
  },
  {
   "cell_type": "code",
   "execution_count": 77,
   "metadata": {},
   "outputs": [
    {
     "data": {
      "text/plain": [
       "{538636: 1,\n",
       " 540368: 1,\n",
       " 539611: 1,\n",
       " 539745: 1,\n",
       " 539887: 1,\n",
       " 540291: inf,\n",
       " 538245: inf,\n",
       " 539916: inf,\n",
       " 539532: inf,\n",
       " 543250: inf,\n",
       " 539027: inf,\n",
       " 540564: inf,\n",
       " 540692: inf,\n",
       " 539929: inf,\n",
       " 541084: inf,\n",
       " 539168: inf,\n",
       " 539173: inf,\n",
       " 540581: inf,\n",
       " 540073: inf,\n",
       " 538411: inf,\n",
       " 540335: inf,\n",
       " 539318: inf,\n",
       " 540473: inf,\n",
       " 535353: inf,\n",
       " 538555: inf,\n",
       " 540988: inf,\n",
       " 540736: inf,\n",
       " 542659: inf,\n",
       " 539079: inf,\n",
       " 540999: inf,\n",
       " 539979: inf,\n",
       " 538964: inf,\n",
       " 538838: inf,\n",
       " 540632: inf,\n",
       " 535515: inf,\n",
       " 540383: inf,\n",
       " 540003: inf,\n",
       " 540004: inf,\n",
       " 538729: inf,\n",
       " 538477: inf,\n",
       " 538735: inf,\n",
       " 540655: inf,\n",
       " 540274: inf,\n",
       " 540531: inf,\n",
       " 540915: inf,\n",
       " 539000: inf,\n",
       " 542458: inf,\n",
       " 538747: inf,\n",
       " 540798: inf}"
      ]
     },
     "execution_count": 77,
     "metadata": {},
     "output_type": "execute_result"
    }
   ],
   "source": [
    "indegree_node = { node: new_cat.in_degree(node) if new_cat.in_degree(node) != 0 else float(\"inf\") for node in new_cat.nodes }\n",
    "indegree_node = dict(sorted(indegree_node.items(), key=lambda item: item[1]))\n",
    "indegree_node"
   ]
  },
  {
   "cell_type": "code",
   "execution_count": 78,
   "metadata": {},
   "outputs": [
    {
     "name": "stdout",
     "output_type": "stream",
     "text": [
      "the most centered node is 538636\n",
      "the most centered node is 540368\n",
      "the most centered node is 539611\n",
      "the most centered node is 539745\n",
      "the most centered node is 539887\n"
     ]
    }
   ],
   "source": [
    "min_val = min(indegree_node.items(), key=lambda x: x[1])[1]\n",
    "min_values = [ x for x in indegree_node if indegree_node[x] == min_val ]\n",
    "for v in min_values:\n",
    "    print(f\"the most centered node is {v}\")"
   ]
  },
  {
   "cell_type": "markdown",
   "metadata": {},
   "source": [
    "Call and calculate the BFS for all nodes."
   ]
  },
  {
   "cell_type": "code",
   "execution_count": 79,
   "metadata": {},
   "outputs": [],
   "source": [
    "# call different_bfs() and create the matrix of distances from v to all edges, so..\n",
    "dict_allbfs = { k: { x: float(\"inf\")  for x in my_dict[cat] } for k in my_dict[cat] }"
   ]
  },
  {
   "cell_type": "code",
   "execution_count": 95,
   "metadata": {},
   "outputs": [
    {
     "name": "stderr",
     "output_type": "stream",
     "text": [
      "100%|███████████████████████████████████████████████████████████████████████████████| 49/49 [00:00<00:00, 24589.72it/s]\n"
     ]
    }
   ],
   "source": [
    "for node in tqdm(dict_allbfs):\n",
    "    distances = different_bfs(new_cat, node)\n",
    "    for val in distances:\n",
    "        dict_allbfs[node][val] = distances[val]"
   ]
  },
  {
   "cell_type": "markdown",
   "metadata": {},
   "source": [
    "Now we create the new graph directed and well weighted."
   ]
  },
  {
   "cell_type": "code",
   "execution_count": 96,
   "metadata": {},
   "outputs": [],
   "source": [
    "G_cat_W = nx.DiGraph(directed=True)\n",
    "\n",
    "for node in dict_allbfs:\n",
    "    G_cat_W.add_node(node, name = pages_names.loc[str(node), 'name'])\n",
    "    for edge in dict_allbfs[node]:\n",
    "        if (dict_allbfs[node][edge] != float(\"inf\")) and (dict_allbfs[node][edge] != 0):\n",
    "            G_cat_W.add_edge(node, edge, weight=dict_allbfs[node][edge])"
   ]
  },
  {
   "cell_type": "code",
   "execution_count": 97,
   "metadata": {},
   "outputs": [
    {
     "data": {
      "text/plain": [
       "{(539611, 539887): 1,\n",
       " (539887, 539611): 1,\n",
       " (538964, 539745): 1,\n",
       " (539027, 540368): 1,\n",
       " (540003, 538636): 1}"
      ]
     },
     "execution_count": 97,
     "metadata": {},
     "output_type": "execute_result"
    }
   ],
   "source": [
    "nx.get_edge_attributes(G_cat_W,'weight')"
   ]
  },
  {
   "cell_type": "code",
   "execution_count": 98,
   "metadata": {},
   "outputs": [
    {
     "data": {
      "image/png": "[encoded data removed]",
      "text/plain": [
       "<Figure size 1080x720 with 1 Axes>"
      ]
     },
     "metadata": {},
     "output_type": "display_data"
    }
   ],
   "source": [
    "labels = nx.get_edge_attributes(G_cat_W,'weight')\n",
    "pos=nx.kamada_kawai_layout(G_cat_W) # pos = nx.nx_agraph.graphviz_layout(G)\n",
    "plt.figure(3,figsize=(15, 10))\n",
    "nx.draw_networkx(G_cat_W, pos, node_color='#03b4d9')\n",
    "nx.draw_networkx_edge_labels(G_cat_W, pos, with_labels=True, edge_labels=labels)\n",
    "plt.show()"
   ]
  },
  {
   "cell_type": "code",
   "execution_count": 99,
   "metadata": {},
   "outputs": [],
   "source": [
    "def nearest_neigh(G, v):\n",
    "    queue = []\n",
    "    queue.append(v)\n",
    "    \n",
    "    explored = {}\n",
    "    explored[v] = 0\n",
    "    while queue:\n",
    "        s = queue.pop(0)\n",
    "        \n",
    "        near_dists = []\n",
    "        for neigh in nx.neighbors(G_cat_W, s):\n",
    "            near_dists.append([neigh, G[s][neigh]['weight']])\n",
    "        \n",
    "        if near_dists:\n",
    "            near_neigh = sorted(near_dists, key = lambda x: x[1])[0][0]\n",
    "            if near_neigh not in explored:\n",
    "                explored[neigh] = G[s][neigh]['weight']\n",
    "                queue.append(near_neigh)\n",
    "    \n",
    "    if len(explored) != len(G.nodes):\n",
    "        return \"we can't achieve all pages, so.. NOT POSSIBLE!\"\n",
    "    else:\n",
    "        return f\"we need a minimum of {sum(explored.values())} steps to achieve all pages\""
   ]
  },
  {
   "cell_type": "code",
   "execution_count": 100,
   "metadata": {},
   "outputs": [
    {
     "name": "stdout",
     "output_type": "stream",
     "text": [
      "Start with the source 538636.. we need, maybe.. we can't achieve all pages, so.. NOT POSSIBLE!\n",
      "Start with the source 540368.. we need, maybe.. we can't achieve all pages, so.. NOT POSSIBLE!\n",
      "Start with the source 539611.. we need, maybe.. we can't achieve all pages, so.. NOT POSSIBLE!\n",
      "Start with the source 539745.. we need, maybe.. we can't achieve all pages, so.. NOT POSSIBLE!\n",
      "Start with the source 539887.. we need, maybe.. we can't achieve all pages, so.. NOT POSSIBLE!\n"
     ]
    }
   ],
   "source": [
    "for v in min_values:\n",
    "    expl = nearest_neigh(G_cat_W, v)\n",
    "    print(f\"Start with the source {v}.. we need, maybe.. {expl}\")"
   ]
  },
  {
   "cell_type": "markdown",
   "metadata": {},
   "source": [
    "# RQ5"
   ]
  },
  {
   "cell_type": "markdown",
   "metadata": {},
   "source": [
    "Write a function that, given an arbitrary category C0 as input, returns the list of remaning categories sorted by their distance from C0. In particular, the distance between two categories is defined as\n",
    "\n",
    "distance(C0, Ci) = median(ShortestPath(C0, Ci))\n",
    "\n",
    "where ShortestPath(C0, Ci) is the set of shortest paths from each pair of nodes in the two categories."
   ]
  },
  {
   "cell_type": "code",
   "execution_count": 82,
   "metadata": {},
   "outputs": [
    {
     "name": "stdout",
     "output_type": "stream",
     "text": [
      "Insert the first category: English_footballers\n"
     ]
    },
    {
     "data": {
      "text/plain": [
       "'English_footballers'"
      ]
     },
     "execution_count": 82,
     "metadata": {},
     "output_type": "execute_result"
    }
   ],
   "source": [
    "c0 = str(input(\"Insert the first category: \"))\n",
    "c0"
   ]
  },
  {
   "cell_type": "code",
   "execution_count": 83,
   "metadata": {},
   "outputs": [],
   "source": [
    "def different_bfs(G, v):\n",
    "    queue = [] # create queue for BFS\n",
    "    \n",
    "    # start BFS\n",
    "    queue.append(v)\n",
    "    distances = {}\n",
    "    distances[v] = 0\n",
    "    \n",
    "    while queue:\n",
    "        s = queue.pop(0)\n",
    "        \n",
    "        for neigh in nx.neighbors(G, s):\n",
    "            if neigh not in distances:\n",
    "                distances[neigh] = distances[s] + 1\n",
    "                queue.append(neigh)\n",
    "                \n",
    "    return distances"
   ]
  },
  {
   "cell_type": "code",
   "execution_count": 84,
   "metadata": {},
   "outputs": [
    {
     "name": "stderr",
     "output_type": "stream",
     "text": [
      "100%|████████████████████████████████████████████████████████████████████████████████| 878/878 [02:31<00:00,  5.78it/s]\n",
      "5219it [00:50, 103.75it/s]\n"
     ]
    }
   ],
   "source": [
    "import statistics\n",
    "from tqdm import tqdm\n",
    "\n",
    "ctg = list(new_categories[\"category\"])\n",
    "pg_lst = list(new_categories[\"pages list\"])\n",
    "union_lst = [ [x, list(map(int,pg_lst[i]))] for i, x in enumerate(ctg) ]\n",
    "my_dict = {x[0]: x[1] for x in union_lst}\n",
    "\n",
    "list_c0 = my_dict[c0]\n",
    "my_distances_bfs = {}\n",
    "for node in tqdm(list_c0):\n",
    "    my_distances_bfs[node] = different_bfs(G, node)\n",
    "\n",
    "medians = []\n",
    "for i, ct in tqdm(enumerate(ctg)):\n",
    "    values_lists = []\n",
    "    if ct != c0: \n",
    "        list_c_i = my_dict[ct]\n",
    "        for node_x in list_c0:\n",
    "            for node_y in list_c_i: \n",
    "                if node_y in my_distances_bfs[node_x]:\n",
    "                    values_lists.append(my_distances_bfs[node_x][node_y])\n",
    "                else:\n",
    "                    values_lists.append(float(\"inf\"))\n",
    "        medians.append(statistics.median(values_lists))"
   ]
  },
  {
   "cell_type": "code",
   "execution_count": 85,
   "metadata": {},
   "outputs": [],
   "source": [
    "dists2 = medians.copy()"
   ]
  },
  {
   "cell_type": "code",
   "execution_count": 86,
   "metadata": {},
   "outputs": [],
   "source": [
    "union_dist_idx = [ [i, int(x)] for i, x in enumerate(dists2) if x != float(\"inf\") ]\n",
    "union_dist_idx = sorted(union_dist_idx, key=lambda x: x[1])"
   ]
  },
  {
   "cell_type": "code",
   "execution_count": 87,
   "metadata": {
    "scrolled": false
   },
   "outputs": [
    {
     "data": {
      "text/html": [
       "<div>\n",
       "<style scoped>\n",
       "    .dataframe tbody tr th:only-of-type {\n",
       "        vertical-align: middle;\n",
       "    }\n",
       "\n",
       "    .dataframe tbody tr th {\n",
       "        vertical-align: top;\n",
       "    }\n",
       "\n",
       "    .dataframe thead th {\n",
       "        text-align: right;\n",
       "    }\n",
       "</style>\n",
       "<table border=\"1\" class=\"dataframe\">\n",
       "  <thead>\n",
       "    <tr style=\"text-align: right;\">\n",
       "      <th></th>\n",
       "      <th>category</th>\n",
       "      <th>distance</th>\n",
       "    </tr>\n",
       "  </thead>\n",
       "  <tbody>\n",
       "    <tr>\n",
       "      <th>0</th>\n",
       "      <td>Chelsea_F.C._players</td>\n",
       "      <td>4</td>\n",
       "    </tr>\n",
       "    <tr>\n",
       "      <th>1</th>\n",
       "      <td>UEFA_Euro_1992_players</td>\n",
       "      <td>4</td>\n",
       "    </tr>\n",
       "    <tr>\n",
       "      <th>2</th>\n",
       "      <td>Moroccan_footballers</td>\n",
       "      <td>5</td>\n",
       "    </tr>\n",
       "    <tr>\n",
       "      <th>3</th>\n",
       "      <td>Jewish_footballers</td>\n",
       "      <td>5</td>\n",
       "    </tr>\n",
       "    <tr>\n",
       "      <th>4</th>\n",
       "      <td>Jewish_American_scientists</td>\n",
       "      <td>5</td>\n",
       "    </tr>\n",
       "    <tr>\n",
       "      <th>...</th>\n",
       "      <td>...</td>\n",
       "      <td>...</td>\n",
       "    </tr>\n",
       "    <tr>\n",
       "      <th>2402</th>\n",
       "      <td>English-language_albums</td>\n",
       "      <td>15</td>\n",
       "    </tr>\n",
       "    <tr>\n",
       "      <th>2403</th>\n",
       "      <td>Members_of_the_United_States_House_of_Represen...</td>\n",
       "      <td>15</td>\n",
       "    </tr>\n",
       "    <tr>\n",
       "      <th>2404</th>\n",
       "      <td>Films_directed_by_Chuck_Jones</td>\n",
       "      <td>15</td>\n",
       "    </tr>\n",
       "    <tr>\n",
       "      <th>2405</th>\n",
       "      <td>Hapoel_Tel_Aviv_F.C._players</td>\n",
       "      <td>16</td>\n",
       "    </tr>\n",
       "    <tr>\n",
       "      <th>2406</th>\n",
       "      <td>English_pop_singers</td>\n",
       "      <td>21</td>\n",
       "    </tr>\n",
       "  </tbody>\n",
       "</table>\n",
       "<p>2407 rows × 2 columns</p>\n",
       "</div>"
      ],
      "text/plain": [
       "                                               category  distance\n",
       "0                                  Chelsea_F.C._players         4\n",
       "1                                UEFA_Euro_1992_players         4\n",
       "2                                  Moroccan_footballers         5\n",
       "3                                    Jewish_footballers         5\n",
       "4                            Jewish_American_scientists         5\n",
       "...                                                 ...       ...\n",
       "2402                            English-language_albums        15\n",
       "2403  Members_of_the_United_States_House_of_Represen...        15\n",
       "2404                      Films_directed_by_Chuck_Jones        15\n",
       "2405                       Hapoel_Tel_Aviv_F.C._players        16\n",
       "2406                                English_pop_singers        21\n",
       "\n",
       "[2407 rows x 2 columns]"
      ]
     },
     "execution_count": 87,
     "metadata": {},
     "output_type": "execute_result"
    }
   ],
   "source": [
    "distance_cat0 = pd.DataFrame()\n",
    "distance_cat0[\"category\"] = [ new_categories.loc[x[0], \"category\"] for x in union_dist_idx ]\n",
    "distance_cat0[\"distance\"] = [ x[1] for x in union_dist_idx ]\n",
    "distance_cat0"
   ]
  },
  {
   "cell_type": "markdown",
   "metadata": {},
   "source": [
    "# RQ6"
   ]
  },
  {
   "cell_type": "markdown",
   "metadata": {},
   "source": [
    "Write a function that sorts the categories in the graph according to their PageRank (PR). For this task you need to model the network of categories such that you can apply the PR algorithm."
   ]
  },
  {
   "cell_type": "code",
   "execution_count": 150,
   "metadata": {},
   "outputs": [],
   "source": [
    "import numpy as np\n",
    "\n",
    "def PageRank(G, d = 0.85, max_iter = 100):\n",
    "    probs_node = { x: 1 / len(G) for x in G.nodes }                                                                                             # create dict of uniform probs for each page\n",
    "    out_degrees = { x: G.out_degree(x) if G.out_degree(x) != 0 else len(G) for x in G.nodes }                                                   # create dict of uniform out_degrees for each page and for a page with noone outlinks our choice is uniformly at all pages present, so consider the length of the graph \n",
    "    \n",
    "    new_probs_node = probs_node.copy()                                                                                                          # save each new iteration considering always the old probabilities\n",
    "                                                                                                                                                # the optimal way to choose the correct number of iterations\n",
    "    for _ in tqdm(range(max_iter)):                                                                                                             # the algorithm iterate to achieve the best predictive socre  \n",
    "        for p_x in new_probs_node:                                                                                                              # catch each page in order to update the probabilities                            \n",
    "            ratios_sum = sum([ probs_node[neigh] / out_degrees[neigh] for neigh in nx.neighbors(G, p_x) ])                                      # increase the rank, check if the neighbors has outgoing links, if it not go forward to the next neighbor\n",
    "            new_probs_node[p_x] = ( ( 1 - d ) / len(G) ) + ( d * ratios_sum )                                                                   # then update the value for the i-th node\n",
    "        \n",
    "            probs_node = new_probs_node.copy()\n",
    "    \n",
    "    return new_probs_node"
   ]
  },
  {
   "cell_type": "code",
   "execution_count": 151,
   "metadata": {},
   "outputs": [],
   "source": [
    "# useful create a dict\n",
    "refer_dt = categories[categories['Category'].isin(list(new_categories[\"category\"]))]\n",
    "lst_category = list(refer_dt['Category'])\n",
    "\n",
    "lst_pages = [ set(map(int, lst_pg )) for lst_pg in list(refer_dt[\"Pages List\"]) ]\n",
    "my_dict = { cat: lst_pages[i] for i, cat in enumerate(lst_category) }"
   ]
  },
  {
   "cell_type": "code",
   "execution_count": 152,
   "metadata": {},
   "outputs": [],
   "source": [
    "# create the new graph of categories and inserts the node as one category\n",
    "new_G = nx.DiGraph(directed=True)\n",
    "for cat in lst_category:\n",
    "    new_G.add_node(cat)"
   ]
  },
  {
   "cell_type": "code",
   "execution_count": 153,
   "metadata": {},
   "outputs": [
    {
     "name": "stderr",
     "output_type": "stream",
     "text": [
      "100%|██████████████████████████████████████████████████████████████████████████████| 5246/5246 [02:23<00:00, 36.59it/s]\n"
     ]
    }
   ],
   "source": [
    "# add edges\n",
    "for x in tqdm(my_dict):\n",
    "    for y in my_dict:\n",
    "        if (x != y and len(my_dict[x].intersection(my_dict[y])) > 0):\n",
    "            new_G.add_edge(x, y)"
   ]
  },
  {
   "cell_type": "markdown",
   "metadata": {},
   "source": [
    "Is a reasonable situation because the categories haven't any nodes connect."
   ]
  },
  {
   "cell_type": "code",
   "execution_count": 154,
   "metadata": {},
   "outputs": [
    {
     "data": {
      "text/plain": [
       "1540986"
      ]
     },
     "execution_count": 154,
     "metadata": {},
     "output_type": "execute_result"
    }
   ],
   "source": [
    "len(new_G.edges)"
   ]
  },
  {
   "cell_type": "code",
   "execution_count": 155,
   "metadata": {},
   "outputs": [
    {
     "name": "stderr",
     "output_type": "stream",
     "text": [
      "100%|████████████████████████████████████████████████████████████████████████████████| 100/100 [01:34<00:00,  1.06it/s]\n"
     ]
    },
    {
     "data": {
      "text/plain": [
       "1.0000000000000024"
      ]
     },
     "execution_count": 155,
     "metadata": {},
     "output_type": "execute_result"
    }
   ],
   "source": [
    "tot_PageRank = PageRank(new_G)\n",
    "sum(tot_PageRank.values())"
   ]
  },
  {
   "cell_type": "code",
   "execution_count": 156,
   "metadata": {},
   "outputs": [
    {
     "data": {
      "text/plain": [
       "0.9999999999999971"
      ]
     },
     "execution_count": 156,
     "metadata": {},
     "output_type": "execute_result"
    }
   ],
   "source": [
    "sum(nx.pagerank(new_G, alpha = 0.85).values())"
   ]
  }
 ],
 "metadata": {
  "kernelspec": {
   "display_name": "Python 3",
   "language": "python",
   "name": "python3"
  },
  "language_info": {
   "codemirror_mode": {
    "name": "ipython",
    "version": 3
   },
   "file_extension": ".py",
   "mimetype": "text/x-python",
   "name": "python",
   "nbconvert_exporter": "python",
   "pygments_lexer": "ipython3",
   "version": "3.8.3"
  }
 },
 "nbformat": 4,
 "nbformat_minor": 4
}
