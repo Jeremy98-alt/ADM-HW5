{
 "cells": [
  {
   "cell_type": "code",
   "execution_count": 74,
   "metadata": {},
   "outputs": [],
   "source": [
    "import pandas as pd\n",
    "from collections import defaultdict\n",
    "import matplotlib.pyplot as plt\n",
    "import random"
   ]
  },
  {
   "cell_type": "markdown",
   "metadata": {},
   "source": [
    "# Visualize the datasets and manage the dataset"
   ]
  },
  {
   "cell_type": "code",
   "execution_count": 35,
   "metadata": {},
   "outputs": [
    {
     "data": {
      "text/html": [
       "<div>\n",
       "<style scoped>\n",
       "    .dataframe tbody tr th:only-of-type {\n",
       "        vertical-align: middle;\n",
       "    }\n",
       "\n",
       "    .dataframe tbody tr th {\n",
       "        vertical-align: top;\n",
       "    }\n",
       "\n",
       "    .dataframe thead th {\n",
       "        text-align: right;\n",
       "    }\n",
       "</style>\n",
       "<table border=\"1\" class=\"dataframe\">\n",
       "  <thead>\n",
       "    <tr style=\"text-align: right;\">\n",
       "      <th></th>\n",
       "      <th>source</th>\n",
       "      <th>dest</th>\n",
       "    </tr>\n",
       "  </thead>\n",
       "  <tbody>\n",
       "    <tr>\n",
       "      <th>0</th>\n",
       "      <td>95</td>\n",
       "      <td>1185516</td>\n",
       "    </tr>\n",
       "    <tr>\n",
       "      <th>1</th>\n",
       "      <td>108</td>\n",
       "      <td>1059989</td>\n",
       "    </tr>\n",
       "    <tr>\n",
       "      <th>2</th>\n",
       "      <td>108</td>\n",
       "      <td>1062426</td>\n",
       "    </tr>\n",
       "    <tr>\n",
       "      <th>3</th>\n",
       "      <td>108</td>\n",
       "      <td>1161925</td>\n",
       "    </tr>\n",
       "    <tr>\n",
       "      <th>4</th>\n",
       "      <td>134</td>\n",
       "      <td>541222</td>\n",
       "    </tr>\n",
       "  </tbody>\n",
       "</table>\n",
       "</div>"
      ],
      "text/plain": [
       "   source     dest\n",
       "0      95  1185516\n",
       "1     108  1059989\n",
       "2     108  1062426\n",
       "3     108  1161925\n",
       "4     134   541222"
      ]
     },
     "execution_count": 35,
     "metadata": {},
     "output_type": "execute_result"
    }
   ],
   "source": [
    "edges = pd.read_csv(\"wikigraph_reduced.csv\", sep=\"\\t\", usecols = [\"0\", \"1\"])\n",
    "edges.columns = [\"source\", \"dest\"]\n",
    "edges.head()"
   ]
  },
  {
   "cell_type": "markdown",
   "metadata": {},
   "source": [
    "Read the pages names."
   ]
  },
  {
   "cell_type": "code",
   "execution_count": 36,
   "metadata": {},
   "outputs": [
    {
     "data": {
      "text/html": [
       "<div>\n",
       "<style scoped>\n",
       "    .dataframe tbody tr th:only-of-type {\n",
       "        vertical-align: middle;\n",
       "    }\n",
       "\n",
       "    .dataframe tbody tr th {\n",
       "        vertical-align: top;\n",
       "    }\n",
       "\n",
       "    .dataframe thead th {\n",
       "        text-align: right;\n",
       "    }\n",
       "</style>\n",
       "<table border=\"1\" class=\"dataframe\">\n",
       "  <thead>\n",
       "    <tr style=\"text-align: right;\">\n",
       "      <th></th>\n",
       "      <th>name</th>\n",
       "    </tr>\n",
       "    <tr>\n",
       "      <th>node</th>\n",
       "      <th></th>\n",
       "    </tr>\n",
       "  </thead>\n",
       "  <tbody>\n",
       "    <tr>\n",
       "      <th>0</th>\n",
       "      <td>Chiasmal syndrome</td>\n",
       "    </tr>\n",
       "    <tr>\n",
       "      <th>1</th>\n",
       "      <td>Kleroterion</td>\n",
       "    </tr>\n",
       "    <tr>\n",
       "      <th>2</th>\n",
       "      <td>Pinakion</td>\n",
       "    </tr>\n",
       "    <tr>\n",
       "      <th>3</th>\n",
       "      <td>LyndonHochschildSerre spectral sequence</td>\n",
       "    </tr>\n",
       "    <tr>\n",
       "      <th>4</th>\n",
       "      <td>Zariski's main theorem</td>\n",
       "    </tr>\n",
       "    <tr>\n",
       "      <th>...</th>\n",
       "      <td>...</td>\n",
       "    </tr>\n",
       "    <tr>\n",
       "      <th>1791484</th>\n",
       "      <td>Noadiah Russell (Yale founder)</td>\n",
       "    </tr>\n",
       "    <tr>\n",
       "      <th>1791485</th>\n",
       "      <td>Cornus officinalis</td>\n",
       "    </tr>\n",
       "    <tr>\n",
       "      <th>1791486</th>\n",
       "      <td>Peter Grummitt</td>\n",
       "    </tr>\n",
       "    <tr>\n",
       "      <th>1791487</th>\n",
       "      <td>Baron Estcourt</td>\n",
       "    </tr>\n",
       "    <tr>\n",
       "      <th>1791488</th>\n",
       "      <td>Catherine Dubosc</td>\n",
       "    </tr>\n",
       "  </tbody>\n",
       "</table>\n",
       "<p>1791489 rows × 1 columns</p>\n",
       "</div>"
      ],
      "text/plain": [
       "                                            name\n",
       "node                                            \n",
       "0                              Chiasmal syndrome\n",
       "1                                    Kleroterion\n",
       "2                                       Pinakion\n",
       "3        LyndonHochschildSerre spectral sequence\n",
       "4                         Zariski's main theorem\n",
       "...                                          ...\n",
       "1791484           Noadiah Russell (Yale founder)\n",
       "1791485                       Cornus officinalis\n",
       "1791486                           Peter Grummitt\n",
       "1791487                           Baron Estcourt\n",
       "1791488                         Catherine Dubosc\n",
       "\n",
       "[1791489 rows x 1 columns]"
      ]
     },
     "execution_count": 36,
     "metadata": {},
     "output_type": "execute_result"
    }
   ],
   "source": [
    "pages_names = pd.read_csv(\"wiki-topcats-page-names.txt\", names=[\"node name\"])\n",
    "pages_names\n",
    "\n",
    "pages_names['node'] = [s.split()[0] for s in list(pages_names['node name']) ]\n",
    "pages_names['name'] = [' '.join(s.split()[1:]) for s in list(pages_names['node name'])]\n",
    "\n",
    "pages_names = pages_names.set_index(\"node\").drop('node name', axis=1)\n",
    "pages_names"
   ]
  },
  {
   "cell_type": "markdown",
   "metadata": {},
   "source": [
    "Read each line of the \"wiki-topcats-categories.txt\" and create the dataset"
   ]
  },
  {
   "cell_type": "code",
   "execution_count": 37,
   "metadata": {},
   "outputs": [
    {
     "data": {
      "text/html": [
       "<div>\n",
       "<style scoped>\n",
       "    .dataframe tbody tr th:only-of-type {\n",
       "        vertical-align: middle;\n",
       "    }\n",
       "\n",
       "    .dataframe tbody tr th {\n",
       "        vertical-align: top;\n",
       "    }\n",
       "\n",
       "    .dataframe thead th {\n",
       "        text-align: right;\n",
       "    }\n",
       "</style>\n",
       "<table border=\"1\" class=\"dataframe\">\n",
       "  <thead>\n",
       "    <tr style=\"text-align: right;\">\n",
       "      <th></th>\n",
       "      <th>Category</th>\n",
       "      <th>Pages List</th>\n",
       "    </tr>\n",
       "  </thead>\n",
       "  <tbody>\n",
       "    <tr>\n",
       "      <th>0</th>\n",
       "      <td>Buprestoidea</td>\n",
       "      <td>[301, 302, 303, 304, 305, 306, 307, 308, 309, ...</td>\n",
       "    </tr>\n",
       "    <tr>\n",
       "      <th>1</th>\n",
       "      <td>People_from_Worcester</td>\n",
       "      <td>[1056, 1057, 1058, 1059, 1060, 60971, 76515, 7...</td>\n",
       "    </tr>\n",
       "    <tr>\n",
       "      <th>2</th>\n",
       "      <td>Skin_conditions_resulting_from_physical_factors</td>\n",
       "      <td>[971, 973, 1166, 1167, 1168, 1169, 1170, 1171,...</td>\n",
       "    </tr>\n",
       "    <tr>\n",
       "      <th>3</th>\n",
       "      <td>Visual_kei_bands</td>\n",
       "      <td>[1297, 1300, 1311, 1312, 1313, 1314, 1315, 131...</td>\n",
       "    </tr>\n",
       "    <tr>\n",
       "      <th>4</th>\n",
       "      <td>Japanese_rock_music_groups</td>\n",
       "      <td>[1297, 1300, 1313, 1314, 1315, 1316, 1319, 132...</td>\n",
       "    </tr>\n",
       "    <tr>\n",
       "      <th>...</th>\n",
       "      <td>...</td>\n",
       "      <td>...</td>\n",
       "    </tr>\n",
       "    <tr>\n",
       "      <th>17359</th>\n",
       "      <td>British_science_fiction_novels</td>\n",
       "      <td>[16110, 24545, 39814, 67923, 108629, 108630, 1...</td>\n",
       "    </tr>\n",
       "    <tr>\n",
       "      <th>17360</th>\n",
       "      <td>Television_soundtracks</td>\n",
       "      <td>[1117, 110192, 110376, 110377, 110380, 110395,...</td>\n",
       "    </tr>\n",
       "    <tr>\n",
       "      <th>17361</th>\n",
       "      <td>Diptera_of_North_America</td>\n",
       "      <td>[279, 280, 283, 31110, 31129, 31133, 31138, 31...</td>\n",
       "    </tr>\n",
       "    <tr>\n",
       "      <th>17362</th>\n",
       "      <td>Diptera_of_Asia</td>\n",
       "      <td>[279, 31129, 31133, 31134, 31135, 31136, 31137...</td>\n",
       "    </tr>\n",
       "    <tr>\n",
       "      <th>17363</th>\n",
       "      <td>Tachinidae</td>\n",
       "      <td>[429765, 429776, 860398, 1427707, 1427710, 142...</td>\n",
       "    </tr>\n",
       "  </tbody>\n",
       "</table>\n",
       "<p>17364 rows × 2 columns</p>\n",
       "</div>"
      ],
      "text/plain": [
       "                                              Category  \\\n",
       "0                                         Buprestoidea   \n",
       "1                                People_from_Worcester   \n",
       "2      Skin_conditions_resulting_from_physical_factors   \n",
       "3                                     Visual_kei_bands   \n",
       "4                           Japanese_rock_music_groups   \n",
       "...                                                ...   \n",
       "17359                   British_science_fiction_novels   \n",
       "17360                           Television_soundtracks   \n",
       "17361                         Diptera_of_North_America   \n",
       "17362                                  Diptera_of_Asia   \n",
       "17363                                       Tachinidae   \n",
       "\n",
       "                                              Pages List  \n",
       "0      [301, 302, 303, 304, 305, 306, 307, 308, 309, ...  \n",
       "1      [1056, 1057, 1058, 1059, 1060, 60971, 76515, 7...  \n",
       "2      [971, 973, 1166, 1167, 1168, 1169, 1170, 1171,...  \n",
       "3      [1297, 1300, 1311, 1312, 1313, 1314, 1315, 131...  \n",
       "4      [1297, 1300, 1313, 1314, 1315, 1316, 1319, 132...  \n",
       "...                                                  ...  \n",
       "17359  [16110, 24545, 39814, 67923, 108629, 108630, 1...  \n",
       "17360  [1117, 110192, 110376, 110377, 110380, 110395,...  \n",
       "17361  [279, 280, 283, 31110, 31129, 31133, 31138, 31...  \n",
       "17362  [279, 31129, 31133, 31134, 31135, 31136, 31137...  \n",
       "17363  [429765, 429776, 860398, 1427707, 1427710, 142...  \n",
       "\n",
       "[17364 rows x 2 columns]"
      ]
     },
     "execution_count": 37,
     "metadata": {},
     "output_type": "execute_result"
    }
   ],
   "source": [
    "categories = pd.read_csv(\"wiki-topcats-categories.txt\", sep=\";\", names = [\"Category\", \"Pages List\"])\n",
    "categories[\"Category\"] = categories.Category.apply(lambda x: x[9:])\n",
    "categories[\"Pages List\"] = categories[\"Pages List\"].apply(lambda x: x.split())\n",
    "categories"
   ]
  },
  {
   "cell_type": "markdown",
   "metadata": {},
   "source": [
    "You will notice that one article might belong to a single category or multiple ones. In the case of multiple appearance, you break the ties uniformly at random. Please, do it before solving any task in the homework."
   ]
  },
  {
   "cell_type": "code",
   "execution_count": 38,
   "metadata": {},
   "outputs": [],
   "source": [
    "cats = list(categories[\"Category\"])\n",
    "pages_list = list(categories[\"Pages List\"])"
   ]
  },
  {
   "cell_type": "markdown",
   "metadata": {},
   "source": [
    "create a vocabulary in order to create the clean categories without replicates."
   ]
  },
  {
   "cell_type": "code",
   "execution_count": 39,
   "metadata": {},
   "outputs": [],
   "source": [
    "nodes = {}\n",
    "for i, list_pages in enumerate(pages_list):\n",
    "    for node in list_pages:\n",
    "        if node not in nodes:\n",
    "            nodes[node] = []\n",
    "        nodes[node].append(i)"
   ]
  },
  {
   "cell_type": "markdown",
   "metadata": {},
   "source": [
    "Choose uniformly at random a category where the page will be belong, then create the dictionary.\n",
    "\n",
    "Remove also the categories that haven't any node in the graph."
   ]
  },
  {
   "cell_type": "code",
   "execution_count": 40,
   "metadata": {},
   "outputs": [],
   "source": [
    "sources = set(edges[\"source\"])\n",
    "dests = set(edges[\"dest\"])\n",
    "red_nodes = sources.union(dests)"
   ]
  },
  {
   "cell_type": "code",
   "execution_count": 41,
   "metadata": {},
   "outputs": [],
   "source": [
    "import random\n",
    "\n",
    "nodes2 = defaultdict(list)\n",
    "for node in nodes.keys():\n",
    "    cat = random.sample(nodes[node], 1)[0]\n",
    "    if int(node) in red_nodes:\n",
    "        nodes2[cat].append(node)\n",
    "    # else:\n",
    "        # drop in the dataframe pages_names the useless node not present in the graph  "
   ]
  },
  {
   "cell_type": "code",
   "execution_count": 42,
   "metadata": {},
   "outputs": [
    {
     "data": {
      "text/html": [
       "<div>\n",
       "<style scoped>\n",
       "    .dataframe tbody tr th:only-of-type {\n",
       "        vertical-align: middle;\n",
       "    }\n",
       "\n",
       "    .dataframe tbody tr th {\n",
       "        vertical-align: top;\n",
       "    }\n",
       "\n",
       "    .dataframe thead th {\n",
       "        text-align: right;\n",
       "    }\n",
       "</style>\n",
       "<table border=\"1\" class=\"dataframe\">\n",
       "  <thead>\n",
       "    <tr style=\"text-align: right;\">\n",
       "      <th></th>\n",
       "      <th>category</th>\n",
       "      <th>pages list</th>\n",
       "    </tr>\n",
       "  </thead>\n",
       "  <tbody>\n",
       "    <tr>\n",
       "      <th>0</th>\n",
       "      <td>English_football_managers</td>\n",
       "      <td>[76871, 83800, 74522, 82756, 79336, 79339, 100...</td>\n",
       "    </tr>\n",
       "    <tr>\n",
       "      <th>1</th>\n",
       "      <td>Huddersfield_Town_F.C._players</td>\n",
       "      <td>[79069, 84396, 80931, 80936, 82342, 78097, 810...</td>\n",
       "    </tr>\n",
       "    <tr>\n",
       "      <th>2</th>\n",
       "      <td>Association_football_midfielders</td>\n",
       "      <td>[79139, 79143, 27310, 395439, 737956, 1642719,...</td>\n",
       "    </tr>\n",
       "    <tr>\n",
       "      <th>3</th>\n",
       "      <td>England_youth_international_footballers</td>\n",
       "      <td>[80237, 83360, 77842, 82793, 82908, 79812, 831...</td>\n",
       "    </tr>\n",
       "    <tr>\n",
       "      <th>4</th>\n",
       "      <td>People_from_Worcester</td>\n",
       "      <td>[84108, 89734, 538870, 540020]</td>\n",
       "    </tr>\n",
       "    <tr>\n",
       "      <th>...</th>\n",
       "      <td>...</td>\n",
       "      <td>...</td>\n",
       "    </tr>\n",
       "    <tr>\n",
       "      <th>5250</th>\n",
       "      <td>Ireland_international_rugby_union_players</td>\n",
       "      <td>[1525229]</td>\n",
       "    </tr>\n",
       "    <tr>\n",
       "      <th>5251</th>\n",
       "      <td>Ohio_Democrats</td>\n",
       "      <td>[1663367]</td>\n",
       "    </tr>\n",
       "    <tr>\n",
       "      <th>5252</th>\n",
       "      <td>People_of_the_Chechen_wars</td>\n",
       "      <td>[1706096]</td>\n",
       "    </tr>\n",
       "    <tr>\n",
       "      <th>5253</th>\n",
       "      <td>Archbishops_of_York</td>\n",
       "      <td>[1779987]</td>\n",
       "    </tr>\n",
       "    <tr>\n",
       "      <th>5254</th>\n",
       "      <td>20th-century_Anglican_bishops</td>\n",
       "      <td>[1780989]</td>\n",
       "    </tr>\n",
       "  </tbody>\n",
       "</table>\n",
       "<p>5255 rows × 2 columns</p>\n",
       "</div>"
      ],
      "text/plain": [
       "                                       category  \\\n",
       "0                     English_football_managers   \n",
       "1                Huddersfield_Town_F.C._players   \n",
       "2              Association_football_midfielders   \n",
       "3       England_youth_international_footballers   \n",
       "4                         People_from_Worcester   \n",
       "...                                         ...   \n",
       "5250  Ireland_international_rugby_union_players   \n",
       "5251                             Ohio_Democrats   \n",
       "5252                 People_of_the_Chechen_wars   \n",
       "5253                        Archbishops_of_York   \n",
       "5254              20th-century_Anglican_bishops   \n",
       "\n",
       "                                             pages list  \n",
       "0     [76871, 83800, 74522, 82756, 79336, 79339, 100...  \n",
       "1     [79069, 84396, 80931, 80936, 82342, 78097, 810...  \n",
       "2     [79139, 79143, 27310, 395439, 737956, 1642719,...  \n",
       "3     [80237, 83360, 77842, 82793, 82908, 79812, 831...  \n",
       "4                        [84108, 89734, 538870, 540020]  \n",
       "...                                                 ...  \n",
       "5250                                          [1525229]  \n",
       "5251                                          [1663367]  \n",
       "5252                                          [1706096]  \n",
       "5253                                          [1779987]  \n",
       "5254                                          [1780989]  \n",
       "\n",
       "[5255 rows x 2 columns]"
      ]
     },
     "execution_count": 42,
     "metadata": {},
     "output_type": "execute_result"
    }
   ],
   "source": [
    "new_categories = pd.DataFrame()\n",
    "new_categories['category'] = nodes2.keys()\n",
    "new_categories['pages list'] = nodes2.values()\n",
    "\n",
    "def set_category(x, categories):\n",
    "    return categories.loc[x, \"Category\"]\n",
    "    \n",
    "new_categories[\"category\"] = new_categories.category.apply(lambda x: set_category(x, categories)) # set the category not the integer value\n",
    "new_categories"
   ]
  },
  {
   "cell_type": "markdown",
   "metadata": {},
   "source": [
    "# RQ1"
   ]
  },
  {
   "cell_type": "markdown",
   "metadata": {},
   "source": [
    "Build the graph G=(V, E), where V is the set of articles and E the hyperlinks among them."
   ]
  },
  {
   "cell_type": "code",
   "execution_count": 43,
   "metadata": {},
   "outputs": [],
   "source": [
    "import networkx as nx"
   ]
  },
  {
   "cell_type": "markdown",
   "metadata": {},
   "source": [
    "create the graph, first we consider if the edges dataframe contents a graph directed or not.."
   ]
  },
  {
   "cell_type": "code",
   "execution_count": 44,
   "metadata": {},
   "outputs": [],
   "source": [
    "def isDirected(edges):\n",
    "    if len(set(list(edges['source'])).intersection(set(list(edges['dest'])))) > 0:\n",
    "        return \"directed\"\n",
    "    else:\n",
    "        return \"undirected\""
   ]
  },
  {
   "cell_type": "code",
   "execution_count": 45,
   "metadata": {},
   "outputs": [],
   "source": [
    "if isDirected(edges) == \"directed\":\n",
    "    G = nx.DiGraph(directed=True)\n",
    "else:\n",
    "    G = nx.Graph()"
   ]
  },
  {
   "cell_type": "code",
   "execution_count": 46,
   "metadata": {},
   "outputs": [],
   "source": [
    "sources = list(edges['source'])\n",
    "dests = list(edges['dest'])\n",
    "\n",
    "for i in range(len(edges)):\n",
    "    G.add_node(sources[i], name = pages_names.loc[str(sources[i]), 'name']) # source\n",
    "    G.add_node(dests[i], name = pages_names.loc[str(dests[i]), 'name']) # dest\n",
    "    \n",
    "    G.add_edge(sources[i], dests[i], weight=1)"
   ]
  },
  {
   "cell_type": "code",
   "execution_count": 47,
   "metadata": {},
   "outputs": [
    {
     "data": {
      "text/plain": [
       "'Name: \\nType: DiGraph\\nNumber of nodes: 98343\\nNumber of edges: 483094\\nAverage in degree:   4.9123\\nAverage out degree:   4.9123'"
      ]
     },
     "execution_count": 47,
     "metadata": {},
     "output_type": "execute_result"
    }
   ],
   "source": [
    "nx.info(G)"
   ]
  },
  {
   "cell_type": "code",
   "execution_count": 48,
   "metadata": {},
   "outputs": [
    {
     "name": "stdout",
     "output_type": "stream",
     "text": [
      "The number of nodes is: 98343 and the number of edges is: 483094\n"
     ]
    }
   ],
   "source": [
    "print(f\"The number of nodes is: {G.number_of_nodes()} and the number of edges is: {G.number_of_edges()}\")"
   ]
  },
  {
   "cell_type": "code",
   "execution_count": 49,
   "metadata": {},
   "outputs": [
    {
     "name": "stdout",
     "output_type": "stream",
     "text": [
      "The Graph is directed\n"
     ]
    }
   ],
   "source": [
    "if nx.is_directed(G):\n",
    "    print(\"The Graph is directed\")\n",
    "else:\n",
    "    print(\"The Graph is undirected\")"
   ]
  },
  {
   "cell_type": "markdown",
   "metadata": {},
   "source": [
    "for the directed graph to understand if the graph is sparse or not, we should use this formula:\n",
    "\n",
    "$D = \\frac{|E|}{|V|(|V|-1)}$\n",
    "\n",
    "a dense graph is a graph in which the number of edges is close to the maximal number of edges."
   ]
  },
  {
   "cell_type": "code",
   "execution_count": 50,
   "metadata": {},
   "outputs": [
    {
     "name": "stdout",
     "output_type": "stream",
     "text": [
      "The graph density is: 4.9951571365597335e-05, so the graph is sparse\n"
     ]
    }
   ],
   "source": [
    "# we can use also nx.density(G)\n",
    "D = (G.number_of_edges())/(G.number_of_nodes()*(G.number_of_nodes()-1))\n",
    "print(f\"The graph density is: {D}, so the graph is sparse\")"
   ]
  },
  {
   "cell_type": "markdown",
   "metadata": {},
   "source": [
    "the average of link per article is.. (considering the **degree** of each node)"
   ]
  },
  {
   "cell_type": "code",
   "execution_count": 51,
   "metadata": {},
   "outputs": [
    {
     "data": {
      "text/plain": [
       "9.824674862471147"
      ]
     },
     "execution_count": 51,
     "metadata": {},
     "output_type": "execute_result"
    }
   ],
   "source": [
    "degrees = dict(G.degree())\n",
    "sum(degrees.values())/float(len(G))"
   ]
  },
  {
   "cell_type": "markdown",
   "metadata": {},
   "source": [
    "the result presents above include in_degree and out_degree of a graph. We can consider also the in_degree and out_degree formula. But, you could use also the native function of networkx"
   ]
  },
  {
   "cell_type": "code",
   "execution_count": 52,
   "metadata": {},
   "outputs": [
    {
     "name": "stdout",
     "output_type": "stream",
     "text": [
      "the indegree = 4.912337431235573 and the outdegree = 4.912337431235573\n"
     ]
    }
   ],
   "source": [
    "indegree = sum(dict(G.in_degree()).values())/float(len(G))\n",
    "outdegree = sum(dict(G.out_degree()).values())/float(len(G))\n",
    "print(f\"the indegree = {indegree} and the outdegree = {outdegree}\")"
   ]
  },
  {
   "cell_type": "markdown",
   "metadata": {},
   "source": [
    "Visualize the **nodes degree distribution**"
   ]
  },
  {
   "cell_type": "code",
   "execution_count": 83,
   "metadata": {},
   "outputs": [],
   "source": [
    "degrees = dict(nx.degree(G))\n",
    "\n",
    "NodeDistro = pd.DataFrame()\n",
    "\n",
    "NodeDistro['node'] = degrees.keys()\n",
    "NodeDistro['degree'] = degrees.values()"
   ]
  },
  {
   "cell_type": "code",
   "execution_count": 84,
   "metadata": {},
   "outputs": [
    {
     "data": {
      "image/png": "[encoded data removed]",
      "text/plain": [
       "<Figure size 576x288 with 1 Axes>"
      ]
     },
     "metadata": {
      "needs_background": "light"
     },
     "output_type": "display_data"
    }
   ],
   "source": [
    "NodeDistro.groupby([NodeDistro.degree]).node.count().head(30).plot.bar(figsize=(8,4))\n",
    "    \n",
    "#create the plot\n",
    "plt.grid()\n",
    "plt.xlabel('Degree')\n",
    "plt.ylabel('Number of Nodes')\n",
    "plt.title('Nodes degree distribution')\n",
    "plt.grid(b=None)\n",
    "plt.show()"
   ]
  },
  {
   "cell_type": "markdown",
   "metadata": {},
   "source": [
    "# RQ2"
   ]
  },
  {
   "cell_type": "code",
   "execution_count": 22,
   "metadata": {},
   "outputs": [],
   "source": [
    "sources = list(edges['source'])\n",
    "dests = list(edges['dest'])"
   ]
  },
  {
   "cell_type": "markdown",
   "metadata": {},
   "source": [
    "choose in input a page v."
   ]
  },
  {
   "cell_type": "code",
   "execution_count": 23,
   "metadata": {},
   "outputs": [
    {
     "name": "stdout",
     "output_type": "stream",
     "text": [
      "Choose a node to start the BFS: 95\n"
     ]
    },
    {
     "data": {
      "text/plain": [
       "95"
      ]
     },
     "execution_count": 23,
     "metadata": {},
     "output_type": "execute_result"
    }
   ],
   "source": [
    "v = int(input(\"Choose a node to start the BFS: \"))\n",
    "v"
   ]
  },
  {
   "cell_type": "markdown",
   "metadata": {},
   "source": [
    "A number of clicks d."
   ]
  },
  {
   "cell_type": "code",
   "execution_count": 24,
   "metadata": {},
   "outputs": [
    {
     "name": "stdout",
     "output_type": "stream",
     "text": [
      "Choose a number of clicks: 2\n"
     ]
    },
    {
     "data": {
      "text/plain": [
       "2"
      ]
     },
     "execution_count": 24,
     "metadata": {},
     "output_type": "execute_result"
    }
   ],
   "source": [
    "d = int(input(\"Choose a number of clicks: \"))\n",
    "d"
   ]
  },
  {
   "cell_type": "code",
   "execution_count": 25,
   "metadata": {},
   "outputs": [],
   "source": [
    "def initialization(G):\n",
    "    nodes = list(G.nodes()) # return the list of nodes\n",
    "    dist = [float('inf') for x in range(len(nodes))] # initialize the distance to inf in order to avoid the distance = 0, that means other thing\n",
    "    visited = [False for x in range(len(nodes))] # initialize the visited = False\n",
    "    return nodes, dist, visited\n",
    "\n",
    "def BFS(G, v, d):\n",
    "    nodes, dist, visited = initialization(G)\n",
    "    \n",
    "    queue = [] # create queue for BFS\n",
    "    \n",
    "    # start BFS\n",
    "    queue.append(v)\n",
    "    visited[nodes.index(v)] = True\n",
    "    dist[nodes.index(v)] = 0\n",
    "    \n",
    "    i = 0\n",
    "    while queue and i <= d:\n",
    "        s = queue.pop(0)\n",
    "        \n",
    "        for neigh in nx.neighbors(G, s):\n",
    "            if visited[nodes.index(neigh)] == False:\n",
    "                visited[nodes.index(neigh)] = True\n",
    "                dist[nodes.index(neigh)] = dist[nodes.index(s)] + 1\n",
    "                queue.append(neigh)\n",
    "        i+=1\n",
    "    dist = list(filter(lambda a: a != float('inf'), dist))\n",
    "        \n",
    "    return dist, nodes"
   ]
  },
  {
   "cell_type": "code",
   "execution_count": 26,
   "metadata": {},
   "outputs": [
    {
     "name": "stdout",
     "output_type": "stream",
     "text": [
      "the set of all pages that you can achieve with 2 are ['Born Innocent (Redd Kross album)', 'Beyond the Valley of the Dolls', 'Linda Blair', 'Stu Phillips (composer)', 'Robert Tasker', 'Humphrey Bogart']\n"
     ]
    }
   ],
   "source": [
    "dist, nodes = BFS(G, v, d)\n",
    "indices = [i for i, x in enumerate(dist) if x == d]\n",
    "nodes = [pages_names.loc[str(x), \"name\"] for i, x in enumerate(nodes) if i in indices]\n",
    "print(f\"the set of all pages that you can achieve with {d} are {nodes}\")"
   ]
  },
  {
   "cell_type": "markdown",
   "metadata": {},
   "source": [
    "# RQ3"
   ]
  },
  {
   "cell_type": "markdown",
   "metadata": {},
   "source": [
    "returns the minimum number of clicks required to reach all pages in p, starting from the page v, corresponding to the most central article, according to the in-degree centrality, in C.\n",
    "\n",
    "According to the professors request, I prefer using the betweeness centrality in order to have the most centered node in the graph."
   ]
  },
  {
   "cell_type": "code",
   "execution_count": 73,
   "metadata": {},
   "outputs": [],
   "source": [
    "ctg = list(new_categories[\"category\"])\n",
    "pg_lst = list(new_categories[\"pages list\"])\n",
    "\n",
    "union_lst = [ [x, list(map(int,pg_lst[i]))] for i, x in enumerate(ctg) ]\n",
    "\n",
    "my_dict = {x[0]: x[1] for x in union_lst}"
   ]
  },
  {
   "cell_type": "markdown",
   "metadata": {},
   "source": [
    "Choose randomly the category in order to find the minimum number of clicks to achieve all nodes in one category."
   ]
  },
  {
   "cell_type": "code",
   "execution_count": 80,
   "metadata": {},
   "outputs": [
    {
     "data": {
      "text/plain": [
       "'UK_MPs_18411847'"
      ]
     },
     "execution_count": 80,
     "metadata": {},
     "output_type": "execute_result"
    }
   ],
   "source": [
    "cat = random.sample(my_dict.keys(), 1)[0]\n",
    "cat"
   ]
  },
  {
   "cell_type": "markdown",
   "metadata": {},
   "source": [
    "Consider the subgraph of G interesting to the selected category chose."
   ]
  },
  {
   "cell_type": "code",
   "execution_count": 121,
   "metadata": {},
   "outputs": [
    {
     "name": "stdout",
     "output_type": "stream",
     "text": [
      "the number of pages are 60 and the number of edges are 14\n"
     ]
    }
   ],
   "source": [
    "new_cat = G.subgraph(my_dict[cat])\n",
    "print(f\"the number of pages are {len(new_cat)} and the number of edges are {len(new_cat.edges)}\")"
   ]
  },
  {
   "cell_type": "markdown",
   "metadata": {},
   "source": [
    "Considering the node most centered in the graph is.. with the betweenness centrality."
   ]
  },
  {
   "cell_type": "code",
   "execution_count": 98,
   "metadata": {},
   "outputs": [
    {
     "name": "stdout",
     "output_type": "stream",
     "text": [
      "the most centered node is 537717\n"
     ]
    }
   ],
   "source": [
    "between_node = nx.betweenness_centrality(new_cat)\n",
    "between_node = dict(sorted(between_node.items(), key=lambda item: item[1], reverse=True))\n",
    "\n",
    "v = list(between_node.keys())[0]\n",
    "print(f\"the most centered node is {v}\")"
   ]
  },
  {
   "cell_type": "markdown",
   "metadata": {},
   "source": [
    "Implement the DFS from one node to all that we can achieve."
   ]
  },
  {
   "cell_type": "code",
   "execution_count": 101,
   "metadata": {},
   "outputs": [],
   "source": [
    "def DFS(G, v, visited):\n",
    "    if v not in visited:\n",
    "        visited.append(v)\n",
    "        for neigh in nx.neighbors(G, v):\n",
    "            DFS(G, neigh, visited)\n",
    "\n",
    "visited = []\n",
    "DFS(new_cat, v, visited)"
   ]
  },
  {
   "cell_type": "markdown",
   "metadata": {},
   "source": [
    "# RQ5"
   ]
  },
  {
   "cell_type": "markdown",
   "metadata": {},
   "source": [
    "Write a function that, given an arbitrary category C0 as input, returns the list of remaning categories sorted by their distance from C0. In particular, the distance between two categories is defined as\n",
    "\n",
    "distance(C0, Ci) = median(ShortestPath(C0, Ci))\n",
    "\n",
    "where ShortestPath(C0, Ci) is the set of shortest paths from each pair of nodes in the two categories."
   ]
  },
  {
   "cell_type": "code",
   "execution_count": 27,
   "metadata": {},
   "outputs": [
    {
     "name": "stdout",
     "output_type": "stream",
     "text": [
      "Insert the first category: English_footballers\n"
     ]
    },
    {
     "data": {
      "text/plain": [
       "'English_footballers'"
      ]
     },
     "execution_count": 27,
     "metadata": {},
     "output_type": "execute_result"
    }
   ],
   "source": [
    "c0 = str(input(\"Insert the first category: \"))\n",
    "c0"
   ]
  },
  {
   "cell_type": "code",
   "execution_count": 28,
   "metadata": {},
   "outputs": [],
   "source": [
    "def different_bfs(G, v):\n",
    "    nodes = list(G.nodes())\n",
    "    \n",
    "    queue = [] # create queue for BFS\n",
    "    \n",
    "    # start BFS\n",
    "    queue.append(v)\n",
    "    distances = {}\n",
    "    distances[v] = 0\n",
    "    \n",
    "    while queue:\n",
    "        s = queue.pop(0)\n",
    "        \n",
    "        for neigh in nx.neighbors(G, s):\n",
    "            if neigh not in distances:\n",
    "                distances[neigh] = distances[s] + 1\n",
    "                queue.append(neigh)\n",
    "                \n",
    "    return distances"
   ]
  },
  {
   "cell_type": "code",
   "execution_count": 34,
   "metadata": {},
   "outputs": [
    {
     "name": "stderr",
     "output_type": "stream",
     "text": [
      "100%|████████████████████████████████████████████████████████████████████████████████| 841/841 [03:59<00:00,  3.51it/s]\n",
      "5263it [01:13, 72.08it/s] \n"
     ]
    }
   ],
   "source": [
    "import statistics\n",
    "from tqdm import tqdm\n",
    "\n",
    "ctg = list(new_categories[\"category\"])\n",
    "pg_lst = list(new_categories[\"pages list\"])\n",
    "union_lst = [ [x, list(map(int,pg_lst[i]))] for i, x in enumerate(ctg) ]\n",
    "my_dict = {x[0]: x[1] for x in union_lst}\n",
    "\n",
    "list_c0 = my_dict[c0]\n",
    "my_distances_bfs = {}\n",
    "for node in tqdm(list_c0):\n",
    "    my_distances_bfs[node] = different_bfs(G, node)\n",
    "\n",
    "medians = []\n",
    "for i, ct in tqdm(enumerate(ctg)):\n",
    "    values_lists = []\n",
    "    if ct != c0: \n",
    "        list_c_i = my_dict[ct]\n",
    "        for node_x in list_c0:\n",
    "            for node_y in list_c_i: \n",
    "                if node_y in my_distances_bfs[node_x]:\n",
    "                    values_lists.append(my_distances_bfs[node_x][node_y])\n",
    "                else:\n",
    "                    values_lists.append(float(\"inf\"))\n",
    "        medians.append(statistics.median(values_lists))"
   ]
  },
  {
   "cell_type": "code",
   "execution_count": 37,
   "metadata": {},
   "outputs": [],
   "source": [
    "dists2 = medians.copy()"
   ]
  },
  {
   "cell_type": "code",
   "execution_count": 48,
   "metadata": {},
   "outputs": [],
   "source": [
    "union_dist_idx = [ [i, int(x)] for i, x in enumerate(dists2) if x != float(\"inf\") ]\n",
    "union_dist_idx = sorted(union_dist_idx, key=lambda x: x[1])"
   ]
  },
  {
   "cell_type": "code",
   "execution_count": 49,
   "metadata": {
    "scrolled": false
   },
   "outputs": [
    {
     "data": {
      "text/html": [
       "<div>\n",
       "<style scoped>\n",
       "    .dataframe tbody tr th:only-of-type {\n",
       "        vertical-align: middle;\n",
       "    }\n",
       "\n",
       "    .dataframe tbody tr th {\n",
       "        vertical-align: top;\n",
       "    }\n",
       "\n",
       "    .dataframe thead th {\n",
       "        text-align: right;\n",
       "    }\n",
       "</style>\n",
       "<table border=\"1\" class=\"dataframe\">\n",
       "  <thead>\n",
       "    <tr style=\"text-align: right;\">\n",
       "      <th></th>\n",
       "      <th>category</th>\n",
       "      <th>distance</th>\n",
       "    </tr>\n",
       "  </thead>\n",
       "  <tbody>\n",
       "    <tr>\n",
       "      <th>0</th>\n",
       "      <td>Sheffield_United_F.C._players</td>\n",
       "      <td>4</td>\n",
       "    </tr>\n",
       "    <tr>\n",
       "      <th>1</th>\n",
       "      <td>Bolton_Wanderers_F.C._players</td>\n",
       "      <td>4</td>\n",
       "    </tr>\n",
       "    <tr>\n",
       "      <th>2</th>\n",
       "      <td>Hartlepool_United_F.C._players</td>\n",
       "      <td>4</td>\n",
       "    </tr>\n",
       "    <tr>\n",
       "      <th>3</th>\n",
       "      <td>Officers_of_the_Order_of_the_British_Empire</td>\n",
       "      <td>4</td>\n",
       "    </tr>\n",
       "    <tr>\n",
       "      <th>4</th>\n",
       "      <td>Walsall_F.C._players</td>\n",
       "      <td>5</td>\n",
       "    </tr>\n",
       "    <tr>\n",
       "      <th>...</th>\n",
       "      <td>...</td>\n",
       "      <td>...</td>\n",
       "    </tr>\n",
       "    <tr>\n",
       "      <th>2468</th>\n",
       "      <td>French-language_films</td>\n",
       "      <td>15</td>\n",
       "    </tr>\n",
       "    <tr>\n",
       "      <th>2469</th>\n",
       "      <td>American_literary_critics</td>\n",
       "      <td>15</td>\n",
       "    </tr>\n",
       "    <tr>\n",
       "      <th>2470</th>\n",
       "      <td>University_of_Houston_alumni</td>\n",
       "      <td>15</td>\n",
       "    </tr>\n",
       "    <tr>\n",
       "      <th>2471</th>\n",
       "      <td>2002_CONCACAF_Gold_Cup_players</td>\n",
       "      <td>16</td>\n",
       "    </tr>\n",
       "    <tr>\n",
       "      <th>2472</th>\n",
       "      <td>Russian_journalists</td>\n",
       "      <td>16</td>\n",
       "    </tr>\n",
       "  </tbody>\n",
       "</table>\n",
       "<p>2473 rows × 2 columns</p>\n",
       "</div>"
      ],
      "text/plain": [
       "                                         category  distance\n",
       "0                   Sheffield_United_F.C._players         4\n",
       "1                   Bolton_Wanderers_F.C._players         4\n",
       "2                  Hartlepool_United_F.C._players         4\n",
       "3     Officers_of_the_Order_of_the_British_Empire         4\n",
       "4                            Walsall_F.C._players         5\n",
       "...                                           ...       ...\n",
       "2468                        French-language_films        15\n",
       "2469                    American_literary_critics        15\n",
       "2470                 University_of_Houston_alumni        15\n",
       "2471               2002_CONCACAF_Gold_Cup_players        16\n",
       "2472                          Russian_journalists        16\n",
       "\n",
       "[2473 rows x 2 columns]"
      ]
     },
     "execution_count": 49,
     "metadata": {},
     "output_type": "execute_result"
    }
   ],
   "source": [
    "distance_cat0 = pd.DataFrame()\n",
    "distance_cat0[\"category\"] = [ new_categories.loc[x[0], \"category\"] for x in union_dist_idx ]\n",
    "distance_cat0[\"distance\"] = [ x[1] for x in union_dist_idx ]\n",
    "distance_cat0"
   ]
  },
  {
   "cell_type": "markdown",
   "metadata": {},
   "source": [
    "# RQ6"
   ]
  },
  {
   "cell_type": "markdown",
   "metadata": {},
   "source": [
    "Write a function that sorts the categories in the graph according to their PageRank (PR). For this task you need to model the network of categories such that you can apply the PR algorithm."
   ]
  },
  {
   "cell_type": "code",
   "execution_count": 69,
   "metadata": {},
   "outputs": [],
   "source": [
    "from tqdm import tqdm\n",
    "import numpy as np\n",
    "\n",
    "def PageRank(G, d = 0.85, max_iter = 100):\n",
    "    probs_node = { x: 1 / len(G) for x in G.nodes }                                                                                             # create dict of uniform probs for each page\n",
    "    out_degrees = { x: G.out_degree(x) if G.out_degree(x) != 0 else len(G) for x in G.nodes }                                                   # create dict of uniform out_degrees for each page and for a page with noone outlinks our choice is uniformly at all pages present, so consider the length of the graph \n",
    "    \n",
    "    new_probs_node = probs_node.copy()                                                                                                          # save each new iteration considering always the old probabilities\n",
    "                                                                                                                                                # the optimal way to choose the correct number of iterations\n",
    "    for _ in tqdm(range(max_iter)):                                                                                                             # the algorithm iterate to achieve the best predictive socre  \n",
    "        for p_x in new_probs_node:                                                                                                              # catch each page in order to update the probabilities                            \n",
    "            ratios_sum = sum([ probs_node[neigh] / out_degrees[neigh] for neigh in nx.neighbors(G, p_x) ])  .                                   # increase the rank, check if the neighbors has outgoing links, if it not go forward to the next neighbor\n",
    "            new_probs_node[p_x] = ( ( 1 - d ) / len(G) ) + ( d * ratios_sum )                                                                   # then update the value for the i-th node\n",
    "        \n",
    "            probs_node = new_probs_node.copy()\n",
    "    \n",
    "    return new_probs_node"
   ]
  },
  {
   "cell_type": "code",
   "execution_count": 60,
   "metadata": {},
   "outputs": [],
   "source": [
    "# useful create a dict\n",
    "lst_category = list(new_categories[\"category\"])\n",
    "lst_pages = [ set(map(int, lst_pg )) for lst_pg in list(new_categories[\"pages list\"]) ]\n",
    "my_dict = { cat: lst_pages[i] for i, cat in enumerate(lst_category) }"
   ]
  },
  {
   "cell_type": "code",
   "execution_count": 61,
   "metadata": {},
   "outputs": [],
   "source": [
    "# create the new graph of categories and inserts the node as one category\n",
    "new_G = nx.DiGraph(directed=True)\n",
    "for cat in lst_category:\n",
    "    new_G.add_node(cat)"
   ]
  },
  {
   "cell_type": "code",
   "execution_count": 62,
   "metadata": {},
   "outputs": [
    {
     "name": "stderr",
     "output_type": "stream",
     "text": [
      "100%|█████████████████████████████████████████████████████████████████████████████| 5255/5255 [00:13<00:00, 381.31it/s]\n"
     ]
    }
   ],
   "source": [
    "# add edges\n",
    "for x in tqdm(my_dict):\n",
    "    for y in my_dict:\n",
    "        if (x != y and len(my_dict[x].intersection(my_dict[y])) > 0):\n",
    "            new_G.add_edge(x, y)"
   ]
  },
  {
   "cell_type": "code",
   "execution_count": 63,
   "metadata": {},
   "outputs": [
    {
     "data": {
      "text/plain": [
       "OutEdgeView([])"
      ]
     },
     "execution_count": 63,
     "metadata": {},
     "output_type": "execute_result"
    }
   ],
   "source": [
    "new_G.edges"
   ]
  },
  {
   "cell_type": "code",
   "execution_count": 70,
   "metadata": {},
   "outputs": [
    {
     "name": "stderr",
     "output_type": "stream",
     "text": [
      "100%|████████████████████████████████████████████████████████████████████████████████| 100/100 [00:26<00:00,  3.84it/s]\n"
     ]
    },
    {
     "data": {
      "text/plain": [
       "0.1499999999999799"
      ]
     },
     "execution_count": 70,
     "metadata": {},
     "output_type": "execute_result"
    }
   ],
   "source": [
    "tot_PageRank = PageRank(new_G)\n",
    "sum(tot_PageRank.values())"
   ]
  },
  {
   "cell_type": "code",
   "execution_count": 65,
   "metadata": {},
   "outputs": [
    {
     "data": {
      "text/plain": [
       "0.9999999999998745"
      ]
     },
     "execution_count": 65,
     "metadata": {},
     "output_type": "execute_result"
    }
   ],
   "source": [
    "sum(nx.pagerank(new_G, alpha = 0.85).values())"
   ]
  }
 ],
 "metadata": {
  "kernelspec": {
   "display_name": "Python 3",
   "language": "python",
   "name": "python3"
  },
  "language_info": {
   "codemirror_mode": {
    "name": "ipython",
    "version": 3
   },
   "file_extension": ".py",
   "mimetype": "text/x-python",
   "name": "python",
   "nbconvert_exporter": "python",
   "pygments_lexer": "ipython3",
   "version": "3.8.3"
  }
 },
 "nbformat": 4,
 "nbformat_minor": 4
}
