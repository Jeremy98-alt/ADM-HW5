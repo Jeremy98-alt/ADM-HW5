{
 "cells": [
  {
   "cell_type": "markdown",
   "metadata": {},
   "source": [
    "# ADM-HW5\n",
    "\n",
    "In this last homework our job is to create a network of all pages in order to do the questions proposed by the professors. So, we starting to import few libraries useful to execute this jupyter notebook, a huge importance is considering the file functions that contains all functions made for this homework."
   ]
  },
  {
   "cell_type": "code",
   "execution_count": 1,
   "metadata": {},
   "outputs": [],
   "source": [
    "import pandas as pd\n",
    "import numpy as np\n",
    "from collections import defaultdict\n",
    "import matplotlib.pyplot as plt\n",
    "import random\n",
    "from tqdm import tqdm\n",
    "import networkx as nx\n",
    "\n",
    "import functions as fun"
   ]
  },
  {
   "cell_type": "markdown",
   "metadata": {},
   "source": [
    "# Load the datasets"
   ]
  },
  {
   "cell_type": "markdown",
   "metadata": {},
   "source": [
    "In this section we import the datasets in order to do the questions reported below this part. \n",
    "\n",
    "So, we load the file  \"wikigraph_reduced.csv\" where we create the main network with all links between pages. This file contains the pages whose belong to the categories that contain a number of articles between 5000 and 30000. \n",
    "\n",
    "Then, we uploaded also the \"wiki-topcats-page-names.txt\" in order to save the name of all pages and \"wiki-topcats-categories.txt\" where we should control if the main rule is respected. \n",
    "\n",
    "Despite, the professors said that the categories contained the right number of pages for each category, we try to prove this step and we saw that the dataset didn't contain the right number of pages per category, so we fixed the categories with the right range."
   ]
  },
  {
   "cell_type": "code",
   "execution_count": 2,
   "metadata": {},
   "outputs": [
    {
     "data": {
      "text/html": [
       "<div>\n",
       "<style scoped>\n",
       "    .dataframe tbody tr th:only-of-type {\n",
       "        vertical-align: middle;\n",
       "    }\n",
       "\n",
       "    .dataframe tbody tr th {\n",
       "        vertical-align: top;\n",
       "    }\n",
       "\n",
       "    .dataframe thead th {\n",
       "        text-align: right;\n",
       "    }\n",
       "</style>\n",
       "<table border=\"1\" class=\"dataframe\">\n",
       "  <thead>\n",
       "    <tr style=\"text-align: right;\">\n",
       "      <th></th>\n",
       "      <th>source</th>\n",
       "      <th>dest</th>\n",
       "    </tr>\n",
       "  </thead>\n",
       "  <tbody>\n",
       "    <tr>\n",
       "      <th>0</th>\n",
       "      <td>95</td>\n",
       "      <td>1185516</td>\n",
       "    </tr>\n",
       "    <tr>\n",
       "      <th>1</th>\n",
       "      <td>108</td>\n",
       "      <td>1059989</td>\n",
       "    </tr>\n",
       "    <tr>\n",
       "      <th>2</th>\n",
       "      <td>108</td>\n",
       "      <td>1062426</td>\n",
       "    </tr>\n",
       "    <tr>\n",
       "      <th>3</th>\n",
       "      <td>108</td>\n",
       "      <td>1161925</td>\n",
       "    </tr>\n",
       "    <tr>\n",
       "      <th>4</th>\n",
       "      <td>134</td>\n",
       "      <td>541222</td>\n",
       "    </tr>\n",
       "  </tbody>\n",
       "</table>\n",
       "</div>"
      ],
      "text/plain": [
       "   source     dest\n",
       "0      95  1185516\n",
       "1     108  1059989\n",
       "2     108  1062426\n",
       "3     108  1161925\n",
       "4     134   541222"
      ]
     },
     "execution_count": 2,
     "metadata": {},
     "output_type": "execute_result"
    }
   ],
   "source": [
    "edges = fun.read_edges()\n",
    "edges.head()"
   ]
  },
  {
   "cell_type": "markdown",
   "metadata": {},
   "source": [
    "After the first load, read the \"wiki-topcats-page-names.txt\"."
   ]
  },
  {
   "cell_type": "code",
   "execution_count": 3,
   "metadata": {},
   "outputs": [
    {
     "data": {
      "text/html": [
       "<div>\n",
       "<style scoped>\n",
       "    .dataframe tbody tr th:only-of-type {\n",
       "        vertical-align: middle;\n",
       "    }\n",
       "\n",
       "    .dataframe tbody tr th {\n",
       "        vertical-align: top;\n",
       "    }\n",
       "\n",
       "    .dataframe thead th {\n",
       "        text-align: right;\n",
       "    }\n",
       "</style>\n",
       "<table border=\"1\" class=\"dataframe\">\n",
       "  <thead>\n",
       "    <tr style=\"text-align: right;\">\n",
       "      <th></th>\n",
       "      <th>name</th>\n",
       "    </tr>\n",
       "    <tr>\n",
       "      <th>node</th>\n",
       "      <th></th>\n",
       "    </tr>\n",
       "  </thead>\n",
       "  <tbody>\n",
       "    <tr>\n",
       "      <th>0</th>\n",
       "      <td>Chiasmal syndrome</td>\n",
       "    </tr>\n",
       "    <tr>\n",
       "      <th>1</th>\n",
       "      <td>Kleroterion</td>\n",
       "    </tr>\n",
       "    <tr>\n",
       "      <th>2</th>\n",
       "      <td>Pinakion</td>\n",
       "    </tr>\n",
       "    <tr>\n",
       "      <th>3</th>\n",
       "      <td>LyndonHochschildSerre spectral sequence</td>\n",
       "    </tr>\n",
       "    <tr>\n",
       "      <th>4</th>\n",
       "      <td>Zariski's main theorem</td>\n",
       "    </tr>\n",
       "    <tr>\n",
       "      <th>...</th>\n",
       "      <td>...</td>\n",
       "    </tr>\n",
       "    <tr>\n",
       "      <th>1791484</th>\n",
       "      <td>Noadiah Russell (Yale founder)</td>\n",
       "    </tr>\n",
       "    <tr>\n",
       "      <th>1791485</th>\n",
       "      <td>Cornus officinalis</td>\n",
       "    </tr>\n",
       "    <tr>\n",
       "      <th>1791486</th>\n",
       "      <td>Peter Grummitt</td>\n",
       "    </tr>\n",
       "    <tr>\n",
       "      <th>1791487</th>\n",
       "      <td>Baron Estcourt</td>\n",
       "    </tr>\n",
       "    <tr>\n",
       "      <th>1791488</th>\n",
       "      <td>Catherine Dubosc</td>\n",
       "    </tr>\n",
       "  </tbody>\n",
       "</table>\n",
       "<p>1791489 rows × 1 columns</p>\n",
       "</div>"
      ],
      "text/plain": [
       "                                            name\n",
       "node                                            \n",
       "0                              Chiasmal syndrome\n",
       "1                                    Kleroterion\n",
       "2                                       Pinakion\n",
       "3        LyndonHochschildSerre spectral sequence\n",
       "4                         Zariski's main theorem\n",
       "...                                          ...\n",
       "1791484           Noadiah Russell (Yale founder)\n",
       "1791485                       Cornus officinalis\n",
       "1791486                           Peter Grummitt\n",
       "1791487                           Baron Estcourt\n",
       "1791488                         Catherine Dubosc\n",
       "\n",
       "[1791489 rows x 1 columns]"
      ]
     },
     "execution_count": 3,
     "metadata": {},
     "output_type": "execute_result"
    }
   ],
   "source": [
    "pages_names = fun.read_pages_name()\n",
    "pages_names"
   ]
  },
  {
   "cell_type": "markdown",
   "metadata": {},
   "source": [
    "Read each line of the \"wiki-topcats-categories.txt\" and check the right number of pages, if this number stays outside the range of 5000 and 30000 kick out that category."
   ]
  },
  {
   "cell_type": "code",
   "execution_count": 4,
   "metadata": {},
   "outputs": [
    {
     "data": {
      "text/html": [
       "<div>\n",
       "<style scoped>\n",
       "    .dataframe tbody tr th:only-of-type {\n",
       "        vertical-align: middle;\n",
       "    }\n",
       "\n",
       "    .dataframe tbody tr th {\n",
       "        vertical-align: top;\n",
       "    }\n",
       "\n",
       "    .dataframe thead th {\n",
       "        text-align: right;\n",
       "    }\n",
       "</style>\n",
       "<table border=\"1\" class=\"dataframe\">\n",
       "  <thead>\n",
       "    <tr style=\"text-align: right;\">\n",
       "      <th></th>\n",
       "      <th>Category</th>\n",
       "      <th>Pages List</th>\n",
       "    </tr>\n",
       "  </thead>\n",
       "  <tbody>\n",
       "    <tr>\n",
       "      <th>0</th>\n",
       "      <td>English_footballers</td>\n",
       "      <td>[22860, 28411, 28961, 28979, 29264, 29573, 295...</td>\n",
       "    </tr>\n",
       "    <tr>\n",
       "      <th>1</th>\n",
       "      <td>The_Football_League_players</td>\n",
       "      <td>[14003, 23536, 27109, 27348, 27459, 27989, 280...</td>\n",
       "    </tr>\n",
       "    <tr>\n",
       "      <th>2</th>\n",
       "      <td>Association_football_forwards</td>\n",
       "      <td>[26876, 26877, 26879, 26887, 26892, 26904, 269...</td>\n",
       "    </tr>\n",
       "    <tr>\n",
       "      <th>3</th>\n",
       "      <td>Association_football_midfielders</td>\n",
       "      <td>[14003, 15291, 23536, 26880, 26882, 26885, 268...</td>\n",
       "    </tr>\n",
       "    <tr>\n",
       "      <th>4</th>\n",
       "      <td>Association_football_defenders</td>\n",
       "      <td>[15217, 22860, 26873, 26878, 26881, 26898, 269...</td>\n",
       "    </tr>\n",
       "    <tr>\n",
       "      <th>5</th>\n",
       "      <td>Harvard_University_alumni</td>\n",
       "      <td>[77, 1013, 1271, 1663, 1779, 1843, 2212, 3193,...</td>\n",
       "    </tr>\n",
       "    <tr>\n",
       "      <th>6</th>\n",
       "      <td>Major_League_Baseball_pitchers</td>\n",
       "      <td>[79, 24213, 33054, 37167, 53973, 63107, 69823,...</td>\n",
       "    </tr>\n",
       "    <tr>\n",
       "      <th>7</th>\n",
       "      <td>Members_of_the_United_Kingdom_Parliament_for_E...</td>\n",
       "      <td>[29098, 29493, 29585, 30255, 30389, 30505, 306...</td>\n",
       "    </tr>\n",
       "    <tr>\n",
       "      <th>8</th>\n",
       "      <td>Indian_films</td>\n",
       "      <td>[1308, 29286, 53565, 70274, 70275, 70797, 1233...</td>\n",
       "    </tr>\n",
       "    <tr>\n",
       "      <th>9</th>\n",
       "      <td>Year_of_death_missing</td>\n",
       "      <td>[98, 126, 227, 1823, 2170, 2223, 13215, 14003,...</td>\n",
       "    </tr>\n",
       "    <tr>\n",
       "      <th>10</th>\n",
       "      <td>Rivers_of_Romania</td>\n",
       "      <td>[72111, 72112, 72113, 72114, 72115, 72116, 721...</td>\n",
       "    </tr>\n",
       "    <tr>\n",
       "      <th>11</th>\n",
       "      <td>Main_Belt_asteroids</td>\n",
       "      <td>[13184, 13992, 22277, 23539, 29163, 33254, 334...</td>\n",
       "    </tr>\n",
       "    <tr>\n",
       "      <th>12</th>\n",
       "      <td>Asteroids_named_for_people</td>\n",
       "      <td>[13184, 13992, 23539, 33990, 33991, 37535, 375...</td>\n",
       "    </tr>\n",
       "    <tr>\n",
       "      <th>13</th>\n",
       "      <td>English-language_films</td>\n",
       "      <td>[55, 134, 153, 214, 1083, 1084, 1087, 1089, 11...</td>\n",
       "    </tr>\n",
       "    <tr>\n",
       "      <th>14</th>\n",
       "      <td>American_films</td>\n",
       "      <td>[134, 153, 173, 1083, 1087, 1089, 1131, 1152, ...</td>\n",
       "    </tr>\n",
       "    <tr>\n",
       "      <th>15</th>\n",
       "      <td>American_television_actors</td>\n",
       "      <td>[174, 938, 980, 1086, 1088, 1099, 1106, 1109, ...</td>\n",
       "    </tr>\n",
       "    <tr>\n",
       "      <th>16</th>\n",
       "      <td>American_film_actors</td>\n",
       "      <td>[174, 980, 1088, 1099, 1106, 1109, 1121, 1122,...</td>\n",
       "    </tr>\n",
       "    <tr>\n",
       "      <th>17</th>\n",
       "      <td>Debut_albums</td>\n",
       "      <td>[95, 108, 112, 113, 190, 254, 1413, 1451, 1452...</td>\n",
       "    </tr>\n",
       "    <tr>\n",
       "      <th>18</th>\n",
       "      <td>Black-and-white_films</td>\n",
       "      <td>[134, 16130, 19763, 26846, 31864, 35833, 38917...</td>\n",
       "    </tr>\n",
       "    <tr>\n",
       "      <th>19</th>\n",
       "      <td>Year_of_birth_missing</td>\n",
       "      <td>[147, 171, 1056, 1656, 13215, 14003, 15293, 22...</td>\n",
       "    </tr>\n",
       "    <tr>\n",
       "      <th>20</th>\n",
       "      <td>Place_of_birth_missing_(living_people)</td>\n",
       "      <td>[167, 1100, 1104, 1118, 1119, 1139, 1140, 1144...</td>\n",
       "    </tr>\n",
       "  </tbody>\n",
       "</table>\n",
       "</div>"
      ],
      "text/plain": [
       "                                             Category  \\\n",
       "0                                 English_footballers   \n",
       "1                         The_Football_League_players   \n",
       "2                       Association_football_forwards   \n",
       "3                    Association_football_midfielders   \n",
       "4                      Association_football_defenders   \n",
       "5                           Harvard_University_alumni   \n",
       "6                      Major_League_Baseball_pitchers   \n",
       "7   Members_of_the_United_Kingdom_Parliament_for_E...   \n",
       "8                                        Indian_films   \n",
       "9                               Year_of_death_missing   \n",
       "10                                  Rivers_of_Romania   \n",
       "11                                Main_Belt_asteroids   \n",
       "12                         Asteroids_named_for_people   \n",
       "13                             English-language_films   \n",
       "14                                     American_films   \n",
       "15                         American_television_actors   \n",
       "16                               American_film_actors   \n",
       "17                                       Debut_albums   \n",
       "18                              Black-and-white_films   \n",
       "19                              Year_of_birth_missing   \n",
       "20             Place_of_birth_missing_(living_people)   \n",
       "\n",
       "                                           Pages List  \n",
       "0   [22860, 28411, 28961, 28979, 29264, 29573, 295...  \n",
       "1   [14003, 23536, 27109, 27348, 27459, 27989, 280...  \n",
       "2   [26876, 26877, 26879, 26887, 26892, 26904, 269...  \n",
       "3   [14003, 15291, 23536, 26880, 26882, 26885, 268...  \n",
       "4   [15217, 22860, 26873, 26878, 26881, 26898, 269...  \n",
       "5   [77, 1013, 1271, 1663, 1779, 1843, 2212, 3193,...  \n",
       "6   [79, 24213, 33054, 37167, 53973, 63107, 69823,...  \n",
       "7   [29098, 29493, 29585, 30255, 30389, 30505, 306...  \n",
       "8   [1308, 29286, 53565, 70274, 70275, 70797, 1233...  \n",
       "9   [98, 126, 227, 1823, 2170, 2223, 13215, 14003,...  \n",
       "10  [72111, 72112, 72113, 72114, 72115, 72116, 721...  \n",
       "11  [13184, 13992, 22277, 23539, 29163, 33254, 334...  \n",
       "12  [13184, 13992, 23539, 33990, 33991, 37535, 375...  \n",
       "13  [55, 134, 153, 214, 1083, 1084, 1087, 1089, 11...  \n",
       "14  [134, 153, 173, 1083, 1087, 1089, 1131, 1152, ...  \n",
       "15  [174, 938, 980, 1086, 1088, 1099, 1106, 1109, ...  \n",
       "16  [174, 980, 1088, 1099, 1106, 1109, 1121, 1122,...  \n",
       "17  [95, 108, 112, 113, 190, 254, 1413, 1451, 1452...  \n",
       "18  [134, 16130, 19763, 26846, 31864, 35833, 38917...  \n",
       "19  [147, 171, 1056, 1656, 13215, 14003, 15293, 22...  \n",
       "20  [167, 1100, 1104, 1118, 1119, 1139, 1140, 1144...  "
      ]
     },
     "execution_count": 4,
     "metadata": {},
     "output_type": "execute_result"
    }
   ],
   "source": [
    "categories = fun.read_categories()\n",
    "categories"
   ]
  },
  {
   "cell_type": "markdown",
   "metadata": {},
   "source": [
    "You will notice that one article might belong to a single category or multiple ones. In the case of multiple appearance, you break the ties uniformly at random.\n",
    "\n",
    "create a vocabulary in order to create the clean categories without replicates."
   ]
  },
  {
   "cell_type": "code",
   "execution_count": 5,
   "metadata": {},
   "outputs": [],
   "source": [
    "nodes = fun.create_vocabulary(categories)"
   ]
  },
  {
   "cell_type": "markdown",
   "metadata": {},
   "source": [
    "Choose uniformly at random a category where the page will be belong, then create the dictionary.  \n",
    "\n",
    "Remove also the categories that haven't any node in the graph. Then, we will visualize the correct dataset represented the categories which haven't any node common in other categories"
   ]
  },
  {
   "cell_type": "code",
   "execution_count": 6,
   "metadata": {},
   "outputs": [
    {
     "data": {
      "text/html": [
       "<div>\n",
       "<style scoped>\n",
       "    .dataframe tbody tr th:only-of-type {\n",
       "        vertical-align: middle;\n",
       "    }\n",
       "\n",
       "    .dataframe tbody tr th {\n",
       "        vertical-align: top;\n",
       "    }\n",
       "\n",
       "    .dataframe thead th {\n",
       "        text-align: right;\n",
       "    }\n",
       "</style>\n",
       "<table border=\"1\" class=\"dataframe\">\n",
       "  <thead>\n",
       "    <tr style=\"text-align: right;\">\n",
       "      <th></th>\n",
       "      <th>category</th>\n",
       "      <th>pages list</th>\n",
       "    </tr>\n",
       "  </thead>\n",
       "  <tbody>\n",
       "    <tr>\n",
       "      <th>0</th>\n",
       "      <td>English_footballers</td>\n",
       "      <td>[28961, 48718, 48730, 72482, 72496, 72532, 725...</td>\n",
       "    </tr>\n",
       "    <tr>\n",
       "      <th>1</th>\n",
       "      <td>Association_football_forwards</td>\n",
       "      <td>[33973, 72696, 73060, 75271, 75366, 75474, 755...</td>\n",
       "    </tr>\n",
       "    <tr>\n",
       "      <th>2</th>\n",
       "      <td>The_Football_League_players</td>\n",
       "      <td>[48583, 72536, 72545, 72555, 72563, 72569, 725...</td>\n",
       "    </tr>\n",
       "    <tr>\n",
       "      <th>3</th>\n",
       "      <td>Association_football_midfielders</td>\n",
       "      <td>[72488, 72539, 72580, 73109, 73145, 74507, 751...</td>\n",
       "    </tr>\n",
       "    <tr>\n",
       "      <th>4</th>\n",
       "      <td>Year_of_death_missing</td>\n",
       "      <td>[72528, 72591, 72620, 72829, 73047, 73148, 752...</td>\n",
       "    </tr>\n",
       "    <tr>\n",
       "      <th>5</th>\n",
       "      <td>Association_football_defenders</td>\n",
       "      <td>[72798, 72943, 73163, 73293, 74652, 75200, 752...</td>\n",
       "    </tr>\n",
       "    <tr>\n",
       "      <th>6</th>\n",
       "      <td>Year_of_birth_missing</td>\n",
       "      <td>[74377, 76428, 93457, 93575, 96409, 672780, 11...</td>\n",
       "    </tr>\n",
       "    <tr>\n",
       "      <th>7</th>\n",
       "      <td>Place_of_birth_missing_(living_people)</td>\n",
       "      <td>[79909, 84217, 84470, 93493, 75195, 83446, 867...</td>\n",
       "    </tr>\n",
       "    <tr>\n",
       "      <th>8</th>\n",
       "      <td>Harvard_University_alumni</td>\n",
       "      <td>[1663, 1843, 3260, 3431, 11386, 11858, 12295, ...</td>\n",
       "    </tr>\n",
       "    <tr>\n",
       "      <th>9</th>\n",
       "      <td>American_television_actors</td>\n",
       "      <td>[154133, 400707, 602072, 725585, 744023, 74413...</td>\n",
       "    </tr>\n",
       "    <tr>\n",
       "      <th>10</th>\n",
       "      <td>American_film_actors</td>\n",
       "      <td>[343966, 351585, 633552, 634062, 744125, 10544...</td>\n",
       "    </tr>\n",
       "    <tr>\n",
       "      <th>11</th>\n",
       "      <td>Members_of_the_United_Kingdom_Parliament_for_E...</td>\n",
       "      <td>[536701, 538562, 538800, 539018, 539583, 54240...</td>\n",
       "    </tr>\n",
       "    <tr>\n",
       "      <th>12</th>\n",
       "      <td>Major_League_Baseball_pitchers</td>\n",
       "      <td>[71163, 112694, 115217, 122453, 142660, 143175...</td>\n",
       "    </tr>\n",
       "    <tr>\n",
       "      <th>13</th>\n",
       "      <td>Indian_films</td>\n",
       "      <td>[53565, 70274, 70275, 136154, 136155, 136157, ...</td>\n",
       "    </tr>\n",
       "    <tr>\n",
       "      <th>14</th>\n",
       "      <td>American_films</td>\n",
       "      <td>[581028, 590472, 134, 153, 1178, 2232, 14258, ...</td>\n",
       "    </tr>\n",
       "    <tr>\n",
       "      <th>15</th>\n",
       "      <td>English-language_films</td>\n",
       "      <td>[581089, 581149, 582063, 582475, 582580, 58656...</td>\n",
       "    </tr>\n",
       "    <tr>\n",
       "      <th>16</th>\n",
       "      <td>Black-and-white_films</td>\n",
       "      <td>[588609, 589066, 589113, 589167, 589186, 58918...</td>\n",
       "    </tr>\n",
       "    <tr>\n",
       "      <th>17</th>\n",
       "      <td>Rivers_of_Romania</td>\n",
       "      <td>[72111, 72112, 72113, 72114, 72115, 72116, 721...</td>\n",
       "    </tr>\n",
       "    <tr>\n",
       "      <th>18</th>\n",
       "      <td>Main_Belt_asteroids</td>\n",
       "      <td>[13184, 13992, 22277, 23539, 33254, 33401, 339...</td>\n",
       "    </tr>\n",
       "    <tr>\n",
       "      <th>19</th>\n",
       "      <td>Asteroids_named_for_people</td>\n",
       "      <td>[39159, 96567, 96568, 96570, 96572, 96577, 965...</td>\n",
       "    </tr>\n",
       "    <tr>\n",
       "      <th>20</th>\n",
       "      <td>Debut_albums</td>\n",
       "      <td>[95, 108, 31695, 31722, 31725, 31726, 31728, 4...</td>\n",
       "    </tr>\n",
       "  </tbody>\n",
       "</table>\n",
       "</div>"
      ],
      "text/plain": [
       "                                             category  \\\n",
       "0                                 English_footballers   \n",
       "1                       Association_football_forwards   \n",
       "2                         The_Football_League_players   \n",
       "3                    Association_football_midfielders   \n",
       "4                               Year_of_death_missing   \n",
       "5                      Association_football_defenders   \n",
       "6                               Year_of_birth_missing   \n",
       "7              Place_of_birth_missing_(living_people)   \n",
       "8                           Harvard_University_alumni   \n",
       "9                          American_television_actors   \n",
       "10                               American_film_actors   \n",
       "11  Members_of_the_United_Kingdom_Parliament_for_E...   \n",
       "12                     Major_League_Baseball_pitchers   \n",
       "13                                       Indian_films   \n",
       "14                                     American_films   \n",
       "15                             English-language_films   \n",
       "16                              Black-and-white_films   \n",
       "17                                  Rivers_of_Romania   \n",
       "18                                Main_Belt_asteroids   \n",
       "19                         Asteroids_named_for_people   \n",
       "20                                       Debut_albums   \n",
       "\n",
       "                                           pages list  \n",
       "0   [28961, 48718, 48730, 72482, 72496, 72532, 725...  \n",
       "1   [33973, 72696, 73060, 75271, 75366, 75474, 755...  \n",
       "2   [48583, 72536, 72545, 72555, 72563, 72569, 725...  \n",
       "3   [72488, 72539, 72580, 73109, 73145, 74507, 751...  \n",
       "4   [72528, 72591, 72620, 72829, 73047, 73148, 752...  \n",
       "5   [72798, 72943, 73163, 73293, 74652, 75200, 752...  \n",
       "6   [74377, 76428, 93457, 93575, 96409, 672780, 11...  \n",
       "7   [79909, 84217, 84470, 93493, 75195, 83446, 867...  \n",
       "8   [1663, 1843, 3260, 3431, 11386, 11858, 12295, ...  \n",
       "9   [154133, 400707, 602072, 725585, 744023, 74413...  \n",
       "10  [343966, 351585, 633552, 634062, 744125, 10544...  \n",
       "11  [536701, 538562, 538800, 539018, 539583, 54240...  \n",
       "12  [71163, 112694, 115217, 122453, 142660, 143175...  \n",
       "13  [53565, 70274, 70275, 136154, 136155, 136157, ...  \n",
       "14  [581028, 590472, 134, 153, 1178, 2232, 14258, ...  \n",
       "15  [581089, 581149, 582063, 582475, 582580, 58656...  \n",
       "16  [588609, 589066, 589113, 589167, 589186, 58918...  \n",
       "17  [72111, 72112, 72113, 72114, 72115, 72116, 721...  \n",
       "18  [13184, 13992, 22277, 23539, 33254, 33401, 339...  \n",
       "19  [39159, 96567, 96568, 96570, 96572, 96577, 965...  \n",
       "20  [95, 108, 31695, 31722, 31725, 31726, 31728, 4...  "
      ]
     },
     "execution_count": 6,
     "metadata": {},
     "output_type": "execute_result"
    }
   ],
   "source": [
    "new_categories = fun.fix_categories(categories, edges, nodes)\n",
    "new_categories"
   ]
  },
  {
   "cell_type": "markdown",
   "metadata": {},
   "source": [
    "# RQ1"
   ]
  },
  {
   "cell_type": "markdown",
   "metadata": {},
   "source": [
    "Build the graph G=(V, E), where V is the set of articles and E the hyperlinks among them. Now, according to the professors requests we created the graph, but first we consider if the edges dataframe contents a graph directed or not.. in order to understand if the graph is directed or not."
   ]
  },
  {
   "cell_type": "code",
   "execution_count": 7,
   "metadata": {},
   "outputs": [],
   "source": [
    "G = fun.check_creation_graph(edges)"
   ]
  },
  {
   "cell_type": "markdown",
   "metadata": {},
   "source": [
    "After the execution of the function, create the graph adding the nodes and edges presents in the edges dataset loaded before this question."
   ]
  },
  {
   "cell_type": "code",
   "execution_count": 8,
   "metadata": {},
   "outputs": [],
   "source": [
    "G = fun.create_graph(edges, pages_names, G)"
   ]
  },
  {
   "cell_type": "markdown",
   "metadata": {},
   "source": [
    "These are the main info about this new graph created before.\n",
    "\n",
    "Now, we are focussing to show the proper features of the graph, in terms of how many articles are present, how many edges are present and so on."
   ]
  },
  {
   "cell_type": "code",
   "execution_count": 9,
   "metadata": {},
   "outputs": [
    {
     "data": {
      "text/plain": [
       "'Name: \\nType: DiGraph\\nNumber of nodes: 98343\\nNumber of edges: 483094\\nAverage in degree:   4.9123\\nAverage out degree:   4.9123'"
      ]
     },
     "execution_count": 9,
     "metadata": {},
     "output_type": "execute_result"
    }
   ],
   "source": [
    "nx.info(G)"
   ]
  },
  {
   "cell_type": "markdown",
   "metadata": {},
   "source": [
    "We have exactly 98343 nodes present in this graph and 483094 edges between them, how can we see below this cell."
   ]
  },
  {
   "cell_type": "code",
   "execution_count": 10,
   "metadata": {},
   "outputs": [
    {
     "name": "stdout",
     "output_type": "stream",
     "text": [
      "The number of nodes is: 98343 and the number of edges is: 483094\n"
     ]
    }
   ],
   "source": [
    "print(f\"The number of nodes is: {G.number_of_nodes()} and the number of edges is: {G.number_of_edges()}\")"
   ]
  },
  {
   "cell_type": "markdown",
   "metadata": {},
   "source": [
    "We know that our graph is directed to understand if the graph is sparse or not, we should use this formula:\n",
    "\n",
    "$D = \\frac{|E|}{|V|(|V|-1)}$\n",
    "\n",
    "a dense graph is a graph in which the number of edges is close to the maximal number of edges."
   ]
  },
  {
   "cell_type": "code",
   "execution_count": 11,
   "metadata": {},
   "outputs": [
    {
     "name": "stdout",
     "output_type": "stream",
     "text": [
      "The graph density is: 4.9951571365597335e-05, so the graph is sparse\n"
     ]
    }
   ],
   "source": [
    "# we can use also nx.density(G)\n",
    "D = (G.number_of_edges())/(G.number_of_nodes()*(G.number_of_nodes()-1))\n",
    "print(f\"The graph density is: {D}, so the graph is sparse\")"
   ]
  },
  {
   "cell_type": "markdown",
   "metadata": {},
   "source": [
    "the average of link per article is.. (considering the **degree** of each node)"
   ]
  },
  {
   "cell_type": "code",
   "execution_count": 12,
   "metadata": {},
   "outputs": [
    {
     "data": {
      "text/plain": [
       "9.824674862471147"
      ]
     },
     "execution_count": 12,
     "metadata": {},
     "output_type": "execute_result"
    }
   ],
   "source": [
    "degrees = dict(G.degree())\n",
    "sum(degrees.values())/float(len(G))"
   ]
  },
  {
   "cell_type": "markdown",
   "metadata": {},
   "source": [
    "the result presents above include in_degree and out_degree of a graph. We can consider also the in_degree and out_degree formula. But, you could use also the native function of networkx"
   ]
  },
  {
   "cell_type": "code",
   "execution_count": 13,
   "metadata": {},
   "outputs": [
    {
     "name": "stdout",
     "output_type": "stream",
     "text": [
      "the indegree = 4.912337431235573 and the outdegree = 4.912337431235573\n"
     ]
    }
   ],
   "source": [
    "indegree = sum(dict(G.in_degree()).values())/float(len(G))\n",
    "outdegree = sum(dict(G.out_degree()).values())/float(len(G))\n",
    "print(f\"the indegree = {indegree} and the outdegree = {outdegree}\")"
   ]
  },
  {
   "cell_type": "markdown",
   "metadata": {},
   "source": [
    "How can we saw briefly above this cell, with these few formulas we can know the degree distribution (added also the out-degree and in-degree for a good way to see the values obtained from our graph) and if this graph is dense or sparse, amazing no?\n",
    "\n",
    "Now, we are focussing on the visualization of this degree distribution, so..\n",
    "\n",
    "We are displaying the **nodes degree distribution** considering the in-degree and out-degree."
   ]
  },
  {
   "cell_type": "code",
   "execution_count": 14,
   "metadata": {},
   "outputs": [
    {
     "data": {
      "image/png": "[encoded data removed]",
      "text/plain": [
       "<Figure size 864x576 with 1 Axes>"
      ]
     },
     "metadata": {
      "needs_background": "light"
     },
     "output_type": "display_data"
    }
   ],
   "source": [
    "in_degree_freq = fun.degree_histogram_directed(G, in_degree=True)\n",
    "out_degree_freq = fun.degree_histogram_directed(G, out_degree=True)\n",
    "\n",
    "fun.plot_degree_distro(in_degree_freq, out_degree_freq)"
   ]
  },
  {
   "cell_type": "markdown",
   "metadata": {},
   "source": [
    "# RQ2"
   ]
  },
  {
   "cell_type": "markdown",
   "metadata": {},
   "source": [
    "For this section the first part consisting to insert from input the page that we want to explore in d click choose by a user, then we apply the corresponding algorithm to solve this exercise. \n",
    "\n",
    "For this section is useful to execute the **breadth-first search (BFS)**, because we are interested to search all pages that I can achieve at a determinate level (number of click), so this is the most algorithm useful to achieve our goal and that solve the question of our professors.\n",
    "\n",
    "choose in input a page v, that is considering as the source node in order to start well the algorithm."
   ]
  },
  {
   "cell_type": "code",
   "execution_count": 15,
   "metadata": {},
   "outputs": [
    {
     "name": "stdout",
     "output_type": "stream",
     "text": [
      "Choose a node to start the BFS: 1663\n"
     ]
    }
   ],
   "source": [
    "v = int(input(\"Choose a node to start the BFS: \"))"
   ]
  },
  {
   "cell_type": "markdown",
   "metadata": {},
   "source": [
    "choose the number of clicks d where I can achieve in a good way n pages at level d."
   ]
  },
  {
   "cell_type": "code",
   "execution_count": 16,
   "metadata": {},
   "outputs": [
    {
     "name": "stdout",
     "output_type": "stream",
     "text": [
      "Choose a number of clicks: 3\n"
     ]
    }
   ],
   "source": [
    "d = int(input(\"Choose a number of clicks: \"))"
   ]
  },
  {
   "cell_type": "markdown",
   "metadata": {},
   "source": [
    "Start the algorithm and check if with d click how pages you can arrive starting to the source node considering before this execution. If you can't arrive with d clicks into any pages.. you will receive an advise equal to \"Not Possible!\"."
   ]
  },
  {
   "cell_type": "code",
   "execution_count": 19,
   "metadata": {},
   "outputs": [],
   "source": [
    "dist, nodes = fun.BFS(G, v, d)"
   ]
  },
  {
   "cell_type": "markdown",
   "metadata": {},
   "source": [
    "Check if with d clicks you can arrive to determinate pages destinations and print it, if you can't arrive into any pages print \"Not Possible!\""
   ]
  },
  {
   "cell_type": "code",
   "execution_count": 20,
   "metadata": {},
   "outputs": [
    {
     "name": "stdout",
     "output_type": "stream",
     "text": [
      "the set of all pages that you can achieve with 3 are ['Born Innocent (Redd Kross album)', 'Beyond the Valley of the Dolls', 'Linda Blair']\n"
     ]
    }
   ],
   "source": [
    "if dist == float(\"inf\"):\n",
    "    print(\"Not Possible!\")\n",
    "else:\n",
    "    indices = [i for i, x in enumerate(dist) if x == d]\n",
    "    nodes = [pages_names.loc[str(x), \"name\"] for i, x in enumerate(nodes) if i in indices]\n",
    "    print(f\"the set of all pages that you can achieve with {d} are {nodes}\")"
   ]
  },
  {
   "cell_type": "markdown",
   "metadata": {},
   "source": [
    "# RQ3\n",
    "returns the minimum number of clicks required to reach all pages in p, starting from the page v, corresponding to the most central article, according to the in-degree centrality, in C."
   ]
  },
  {
   "cell_type": "code",
   "execution_count": 29,
   "metadata": {},
   "outputs": [],
   "source": [
    "ctg = list(new_categories[\"category\"])\n",
    "pg_lst = list(new_categories[\"pages list\"])\n",
    "\n",
    "union_lst = [ [x, list(map(int,pg_lst[i]))] for i, x in enumerate(ctg) ]\n",
    "\n",
    "my_dict = {x[0]: x[1] for x in union_lst}"
   ]
  },
  {
   "cell_type": "markdown",
   "metadata": {},
   "source": [
    "Choose randomly the category in order to find the minimum number of clicks to achieve all nodes in one category."
   ]
  },
  {
   "cell_type": "code",
   "execution_count": 30,
   "metadata": {},
   "outputs": [
    {
     "data": {
      "text/plain": [
       "'The_Football_League_players'"
      ]
     },
     "execution_count": 30,
     "metadata": {},
     "output_type": "execute_result"
    }
   ],
   "source": [
    "cat = random.sample(my_dict.keys(), 1)[0]\n",
    "cat"
   ]
  },
  {
   "cell_type": "markdown",
   "metadata": {},
   "source": [
    "Consider the subgraph of G interesting to the selected category chose."
   ]
  },
  {
   "cell_type": "code",
   "execution_count": 31,
   "metadata": {},
   "outputs": [
    {
     "name": "stdout",
     "output_type": "stream",
     "text": [
      "the number of pages are 3600 and the number of edges are 5562\n"
     ]
    }
   ],
   "source": [
    "new_cat = G.subgraph(my_dict[cat])\n",
    "print(f\"the number of pages are {len(new_cat)} and the number of edges are {len(new_cat.edges)}\")"
   ]
  },
  {
   "cell_type": "markdown",
   "metadata": {},
   "source": [
    "Considering the node most centered in the graph is.. with the in-degree centrality."
   ]
  },
  {
   "cell_type": "code",
   "execution_count": 32,
   "metadata": {},
   "outputs": [],
   "source": [
    "indegree_node = { node: new_cat.in_degree(node) for node in new_cat.nodes if new_cat.in_degree(node) != 0 } # is only to check the max value linked, i don't consider the node without edges setted with inf\n",
    "indegree_node = dict(sorted(indegree_node.items(), key=lambda item: item[1], reverse=True))"
   ]
  },
  {
   "cell_type": "code",
   "execution_count": 33,
   "metadata": {},
   "outputs": [
    {
     "name": "stdout",
     "output_type": "stream",
     "text": [
      "the node 82092 is the most centered with 66 edges\n"
     ]
    }
   ],
   "source": [
    "min_val = max(indegree_node.items(), key=lambda x: x[1])\n",
    "source = min_val[0]\n",
    "print(f\"the node {min_val[0]} is the most centered with {min_val[1]} edges\")"
   ]
  },
  {
   "cell_type": "markdown",
   "metadata": {},
   "source": [
    "Call and calculate the BFS for all nodes."
   ]
  },
  {
   "cell_type": "code",
   "execution_count": 34,
   "metadata": {},
   "outputs": [],
   "source": [
    "# call different_bfs() and create the matrix of distances from v to all edges, so..\n",
    "dict_allbfs = { k: { x: float(\"inf\")  for x in my_dict[cat] } for k in my_dict[cat] }"
   ]
  },
  {
   "cell_type": "code",
   "execution_count": 35,
   "metadata": {},
   "outputs": [],
   "source": [
    "def different_bfs(G, v):\n",
    "    queue = [] # create queue for BFS\n",
    "    \n",
    "    # start BFS\n",
    "    queue.append(v)\n",
    "    distances = {}\n",
    "    distances[v] = 0\n",
    "    \n",
    "    while queue:\n",
    "        s = queue.pop(0)\n",
    "        \n",
    "        for neigh in nx.neighbors(G, s):\n",
    "            if neigh not in distances:\n",
    "                distances[neigh] = distances[s] + 1\n",
    "                queue.append(neigh)\n",
    "                \n",
    "    return distances"
   ]
  },
  {
   "cell_type": "code",
   "execution_count": 36,
   "metadata": {},
   "outputs": [
    {
     "name": "stderr",
     "output_type": "stream",
     "text": [
      "100%|██████████| 3600/3600 [00:22<00:00, 161.97it/s]\n"
     ]
    }
   ],
   "source": [
    "for node in tqdm(dict_allbfs):\n",
    "    distances = different_bfs(new_cat, node)\n",
    "    for val in distances:\n",
    "        dict_allbfs[node][val] = distances[val]"
   ]
  },
  {
   "cell_type": "markdown",
   "metadata": {},
   "source": [
    "Now we create the new graph directed and well weighted."
   ]
  },
  {
   "cell_type": "code",
   "execution_count": 37,
   "metadata": {},
   "outputs": [],
   "source": [
    "G_cat_W = nx.DiGraph(directed=True)\n",
    "\n",
    "for node in dict_allbfs:\n",
    "    G_cat_W.add_node(node, name = pages_names.loc[str(node), 'name'])\n",
    "    for edge in dict_allbfs[node]:\n",
    "        if (dict_allbfs[node][edge] != float(\"inf\")) and (dict_allbfs[node][edge] != 0):\n",
    "            G_cat_W.add_edge(node, edge, weight=dict_allbfs[node][edge])"
   ]
  },
  {
   "cell_type": "code",
   "execution_count": 38,
   "metadata": {},
   "outputs": [],
   "source": [
    "def nearest_neigh(G, v):\n",
    "    queue = []\n",
    "    queue.append(v)\n",
    "    \n",
    "    explored = {}\n",
    "    explored[v] = 0\n",
    "    while queue:\n",
    "        s = queue.pop(0)\n",
    "\n",
    "        near_dists = []\n",
    "        for neigh in nx.neighbors(G, s):\n",
    "            near_dists.append([neigh, G[s][neigh]['weight']])\n",
    "        \n",
    "        if near_dists:\n",
    "            near_neigh = sorted(near_dists, key = lambda x: x[1])[0][0]\n",
    "            if near_neigh not in explored:\n",
    "                explored[neigh] = G[s][neigh]['weight']\n",
    "                queue.append(near_neigh)\n",
    "    \n",
    "    if len(explored) != len(G.nodes):\n",
    "        return \"we can't achieve all pages, so.. NOT POSSIBLE!\"\n",
    "    else:\n",
    "        return f\"we need a minimum of {sum(explored.values())} steps to achieve all pages\""
   ]
  },
  {
   "cell_type": "code",
   "execution_count": 39,
   "metadata": {},
   "outputs": [
    {
     "data": {
      "text/plain": [
       "\"we can't achieve all pages, so.. NOT POSSIBLE!\""
      ]
     },
     "execution_count": 39,
     "metadata": {},
     "output_type": "execute_result"
    }
   ],
   "source": [
    "nearest_neigh(G_cat_W, source)"
   ]
  },
  {
   "cell_type": "markdown",
   "metadata": {},
   "source": [
    "# RQ4"
   ]
  },
  {
   "cell_type": "code",
   "execution_count": 40,
   "metadata": {},
   "outputs": [],
   "source": [
    "class Graph:  \n",
    "  \n",
    "    def __init__(self,graph):  \n",
    "        self.graph = graph # residual graph  \n",
    "        self.org_graph = [i[:] for i in graph]  \n",
    "        self. ROW = len(graph)  \n",
    "        self.COL = len(graph[0])  \n",
    "  \n",
    "  \n",
    "    def BFS(self,s, t, parent): #Returns true if there is a path from source 's' to sink 't' in residual graph. Also fills parent[] to store the path \n",
    "        visited =[False]*(self.ROW)  \n",
    "        queue=[]  \n",
    "        queue.append(s)  \n",
    "        visited[s] = True\n",
    "        while queue:\n",
    "            u = queue.pop(0) \n",
    "            for ind, val in enumerate(self.graph[u]):  \n",
    "                if visited[ind] == False and val > 0 :  \n",
    "                    queue.append(ind)  \n",
    "                    visited[ind] = True\n",
    "                    parent[ind] = u  \n",
    "        return True if visited[t] else False\n",
    "          \n",
    "    # Function for Depth first search Traversal of the graph \n",
    "    def dfs(self, graph,s,visited): \n",
    "        visited[s]=True\n",
    "        for i in range(len(graph)): \n",
    "            if graph[s][i]>0 and not visited[i]: \n",
    "                self.dfs(graph,i,visited) \n",
    "  \n",
    "    # Returns the min-cut of the given graph  \n",
    "    def minCut(self, source, sink):  \n",
    "        parent = [-1]*(self.ROW)  \n",
    "        max_flow = 0   \n",
    "        while self.BFS(source, sink, parent) :  \n",
    "            # Find minimum residual capacity of the edges along the  \n",
    "            # path filled by BFS. Or we can say find the maximum flow  \n",
    "            # through the path found.  \n",
    "            path_flow = float(\"Inf\")  \n",
    "            s = sink  \n",
    "            while(s != source):  \n",
    "                path_flow = min (path_flow, self.graph[parent[s]][s])  \n",
    "                s = parent[s] \n",
    "            max_flow += path_flow  \n",
    "            v = sink  \n",
    "            while(v != source):  \n",
    "                u = parent[v]  \n",
    "                self.graph[u][v] -= path_flow  \n",
    "                self.graph[v][u] += path_flow  \n",
    "                v = parent[v]  \n",
    "        s=0  \n",
    "        visited=len(self.graph)*[False] \n",
    "        self.dfs(self.graph,s,visited) \n",
    "        counter=0\n",
    "        for i in range(self.ROW):  \n",
    "            for j in range(self.COL):  \n",
    "                if self.graph[i][j] == 0 and self.org_graph[i][j] > 0 and visited[i]:  \n",
    "                    counter+=1\n",
    "        return counter \n",
    "  "
   ]
  },
  {
   "cell_type": "code",
   "execution_count": 46,
   "metadata": {},
   "outputs": [
    {
     "name": "stdin",
     "output_type": "stream",
     "text": [
      "Choose the first category:  English_footballers\n",
      "Choose the second category:  Association_football_forwards\t\n"
     ]
    }
   ],
   "source": [
    "c1=str(input('Choose the first category: ')).strip()\n",
    "c1_flag=False\n",
    "while c1_flag==False:\n",
    "    c1_nodes=list(new_categories[new_categories.category==c1][\"pages list\"])[0]\n",
    "    c1_nodes=[int(node) for node in c1_nodes]\n",
    "    c1_subgraph=G.subgraph(c1_nodes)\n",
    "    if list(c1_subgraph.edges)==[]:\n",
    "        print(\"The chosen category does not exist in the graph\")\n",
    "        input(\"Choose a new category: \").strip()\n",
    "    else:\n",
    "        c1_flag=True\n",
    "c2=str(input('Choose the second category: ')).strip()\n",
    "c2_flag=False\n",
    "while c2_flag==False:\n",
    "    c2_nodes=list(new_categories[new_categories.category==c2][\"pages list\"])[0]\n",
    "    c2_nodes=[int(node) for node in c2_nodes]\n",
    "    c2_subgraph=G.subgraph(c2_nodes)\n",
    "    if list(c2_subgraph.edges)==[]:\n",
    "        print(\"The chosen category does not exist in the graph\")\n",
    "        input(\"Choose a new category: \").strip()\n",
    "    else:\n",
    "        c2_flag=True"
   ]
  },
  {
   "cell_type": "code",
   "execution_count": 47,
   "metadata": {},
   "outputs": [
    {
     "data": {
      "text/plain": [
       "'Name: \\nType: DiGraph\\nNumber of nodes: 6131\\nNumber of edges: 10298\\nAverage in degree:   1.6797\\nAverage out degree:   1.6797'"
      ]
     },
     "execution_count": 47,
     "metadata": {},
     "output_type": "execute_result"
    }
   ],
   "source": [
    "subgraph_nodes=list(set(c1_nodes) | set(c2_nodes))\n",
    "u,v=random.sample(subgraph_nodes,2)\n",
    "subg=G.subgraph(subgraph_nodes)\n",
    "nx.info(subg)"
   ]
  },
  {
   "cell_type": "code",
   "execution_count": 48,
   "metadata": {},
   "outputs": [
    {
     "data": {
      "text/plain": [
       "0"
      ]
     },
     "execution_count": 48,
     "metadata": {},
     "output_type": "execute_result"
    }
   ],
   "source": [
    "subg_adj=nx.adjacency_matrix(subg)\n",
    "subg_graph=Graph(list(subg_adj.toarray()))\n",
    "u,v=random.sample(range(np.shape(nx.adjacency_matrix(subg))[0]),2)\n",
    "subg_graph.minCut(u,v)"
   ]
  },
  {
   "cell_type": "markdown",
   "metadata": {},
   "source": [
    "# RQ5"
   ]
  },
  {
   "cell_type": "markdown",
   "metadata": {},
   "source": [
    "Write a function that, given an arbitrary category C0 as input, returns the list of remaning categories sorted by their distance from C0. In particular, the distance between two categories is defined as\n",
    "\n",
    "distance(C0, Ci) = median(ShortestPath(C0, Ci))\n",
    "\n",
    "where ShortestPath(C0, Ci) is the set of shortest paths from each pair of nodes in the two categories."
   ]
  },
  {
   "cell_type": "code",
   "execution_count": 49,
   "metadata": {},
   "outputs": [
    {
     "name": "stdin",
     "output_type": "stream",
     "text": [
      "Insert the first category:  Debut_albums\n"
     ]
    },
    {
     "data": {
      "text/plain": [
       "'Debut_albums'"
      ]
     },
     "execution_count": 49,
     "metadata": {},
     "output_type": "execute_result"
    }
   ],
   "source": [
    "c0 = str(input(\"Insert the first category: \"))\n",
    "c0"
   ]
  },
  {
   "cell_type": "code",
   "execution_count": 50,
   "metadata": {},
   "outputs": [
    {
     "name": "stderr",
     "output_type": "stream",
     "text": [
      "100%|██████████| 2553/2553 [12:39<00:00,  3.36it/s]\n",
      "21it [04:06, 11.76s/it]\n"
     ]
    }
   ],
   "source": [
    "import statistics\n",
    "from tqdm import tqdm\n",
    "\n",
    "ctg = list(new_categories[\"category\"])\n",
    "pg_lst = list(new_categories[\"pages list\"])\n",
    "union_lst = [ [x, list(map(int,pg_lst[i]))] for i, x in enumerate(ctg) ]\n",
    "my_dict = {x[0]: x[1] for x in union_lst}\n",
    "\n",
    "list_c0 = my_dict[c0]\n",
    "my_distances_bfs = {}\n",
    "for node in tqdm(list_c0):\n",
    "    my_distances_bfs[node] = different_bfs(G, node)\n",
    "\n",
    "medians = []\n",
    "for i, ct in tqdm(enumerate(ctg)):\n",
    "    values_lists = []\n",
    "    if ct != c0: \n",
    "        list_c_i = my_dict[ct]\n",
    "        for node_x in list_c0:\n",
    "            for node_y in list_c_i: \n",
    "                if node_y in my_distances_bfs[node_x]:\n",
    "                    values_lists.append(my_distances_bfs[node_x][node_y])\n",
    "                else:\n",
    "                    values_lists.append(float(\"inf\"))\n",
    "        medians.append(statistics.median(values_lists))"
   ]
  },
  {
   "cell_type": "code",
   "execution_count": 63,
   "metadata": {},
   "outputs": [],
   "source": [
    "dists2 = medians.copy()"
   ]
  },
  {
   "cell_type": "code",
   "execution_count": 64,
   "metadata": {},
   "outputs": [],
   "source": [
    "union_dist_idx = [ [i, int(x)] for i, x in enumerate(dists2) if x != float(\"inf\") ]\n",
    "union_dist_idx = sorted(union_dist_idx, key=lambda x: x[1])"
   ]
  },
  {
   "cell_type": "code",
   "execution_count": 65,
   "metadata": {},
   "outputs": [
    {
     "data": {
      "text/html": [
       "<div>\n",
       "<style scoped>\n",
       "    .dataframe tbody tr th:only-of-type {\n",
       "        vertical-align: middle;\n",
       "    }\n",
       "\n",
       "    .dataframe tbody tr th {\n",
       "        vertical-align: top;\n",
       "    }\n",
       "\n",
       "    .dataframe thead th {\n",
       "        text-align: right;\n",
       "    }\n",
       "</style>\n",
       "<table border=\"1\" class=\"dataframe\">\n",
       "  <thead>\n",
       "    <tr style=\"text-align: right;\">\n",
       "      <th></th>\n",
       "      <th>category</th>\n",
       "      <th>distance</th>\n",
       "    </tr>\n",
       "  </thead>\n",
       "  <tbody>\n",
       "    <tr>\n",
       "      <th>0</th>\n",
       "      <td>American_film_actors</td>\n",
       "      <td>6</td>\n",
       "    </tr>\n",
       "    <tr>\n",
       "      <th>1</th>\n",
       "      <td>American_television_actors</td>\n",
       "      <td>6</td>\n",
       "    </tr>\n",
       "    <tr>\n",
       "      <th>2</th>\n",
       "      <td>English-language_films</td>\n",
       "      <td>6</td>\n",
       "    </tr>\n",
       "    <tr>\n",
       "      <th>3</th>\n",
       "      <td>American_films</td>\n",
       "      <td>6</td>\n",
       "    </tr>\n",
       "    <tr>\n",
       "      <th>4</th>\n",
       "      <td>Black-and-white_films</td>\n",
       "      <td>7</td>\n",
       "    </tr>\n",
       "    <tr>\n",
       "      <th>5</th>\n",
       "      <td>Members_of_the_United_Kingdom_Parliament_for_E...</td>\n",
       "      <td>9</td>\n",
       "    </tr>\n",
       "    <tr>\n",
       "      <th>6</th>\n",
       "      <td>Rivers_of_Romania</td>\n",
       "      <td>11</td>\n",
       "    </tr>\n",
       "  </tbody>\n",
       "</table>\n",
       "</div>"
      ],
      "text/plain": [
       "                                            category  distance\n",
       "0                               American_film_actors         6\n",
       "1                         American_television_actors         6\n",
       "2                             English-language_films         6\n",
       "3                                     American_films         6\n",
       "4                              Black-and-white_films         7\n",
       "5  Members_of_the_United_Kingdom_Parliament_for_E...         9\n",
       "6                                  Rivers_of_Romania        11"
      ]
     },
     "execution_count": 65,
     "metadata": {},
     "output_type": "execute_result"
    }
   ],
   "source": [
    "distance_cat0 = pd.DataFrame()\n",
    "distance_cat0[\"category\"] = [ new_categories.loc[x[0], \"category\"] for x in union_dist_idx ]\n",
    "distance_cat0[\"distance\"] = [ x[1] for x in union_dist_idx ]\n",
    "distance_cat0"
   ]
  },
  {
   "cell_type": "markdown",
   "metadata": {},
   "source": [
    "# RQ6\n",
    "Write a function that sorts the categories in the graph according to their PageRank (PR). For this task you need to model the network of categories such that you can apply the PR algorithm."
   ]
  },
  {
   "cell_type": "code",
   "execution_count": 56,
   "metadata": {},
   "outputs": [],
   "source": [
    "def PageRank(G, d = 0.85, max_iter = 100):\n",
    "    probs_node = { x: 1 / len(G) for x in G.nodes }                                                                                             # create dict of uniform probs for each page\n",
    "    out_degrees = { x: G.out_degree(x) if G.out_degree(x) != 0 else len(G) for x in G.nodes }                                                   # create dict of uniform out_degrees for each page and for a page with noone outlinks our choice is uniformly at all pages present, so consider the length of the graph \n",
    "    \n",
    "    new_probs_node = probs_node.copy()                                                                                                          # save each new iteration considering always the old probabilities\n",
    "                                                                                                                                                # the optimal way to choose the correct number of iterations\n",
    "    for _ in tqdm(range(max_iter)):                                                                                                             # the algorithm iterate to achieve the best predictive socre  \n",
    "        for p_x in new_probs_node:                                                                                                              # catch each page in order to update the probabilities                            \n",
    "            ratios_sum = sum([ probs_node[neigh] / out_degrees[neigh] for neigh in nx.neighbors(G, p_x) ])                                      # increase the rank, check if the neighbors has outgoing links, if it not go forward to the next neighbor\n",
    "            new_probs_node[p_x] = ( ( 1 - d ) / len(G) ) + ( d * ratios_sum )                                                                   # then update the value for the i-th node\n",
    "        \n",
    "            probs_node = new_probs_node.copy()\n",
    "    \n",
    "    return new_probs_node"
   ]
  },
  {
   "cell_type": "code",
   "execution_count": 57,
   "metadata": {},
   "outputs": [],
   "source": [
    "# useful create a dict\n",
    "refer_dt = categories[categories['Category'].isin(list(new_categories[\"category\"]))]\n",
    "lst_category = list(refer_dt['Category'])\n",
    "\n",
    "lst_pages = [ set(map(int, lst_pg )) for lst_pg in list(refer_dt[\"Pages List\"]) ]\n",
    "my_dict = { cat: lst_pages[i] for i, cat in enumerate(lst_category) }"
   ]
  },
  {
   "cell_type": "code",
   "execution_count": 58,
   "metadata": {},
   "outputs": [],
   "source": [
    "# create the new graph of categories and inserts the node as one category\n",
    "new_G = nx.DiGraph(directed=True)\n",
    "for cat in lst_category:\n",
    "    new_G.add_node(cat)"
   ]
  },
  {
   "cell_type": "code",
   "execution_count": 59,
   "metadata": {},
   "outputs": [
    {
     "name": "stderr",
     "output_type": "stream",
     "text": [
      "100%|██████████| 21/21 [00:00<00:00, 153.38it/s]\n"
     ]
    }
   ],
   "source": [
    "# add edges\n",
    "for x in tqdm(my_dict):\n",
    "    for y in my_dict:\n",
    "        if (x != y and len(my_dict[x].intersection(my_dict[y])) > 0):\n",
    "            new_G.add_edge(x, y)"
   ]
  },
  {
   "cell_type": "markdown",
   "metadata": {},
   "source": [
    "Is a reasonable situation because the categories don't have any nodes connect."
   ]
  },
  {
   "cell_type": "code",
   "execution_count": 60,
   "metadata": {},
   "outputs": [
    {
     "data": {
      "text/plain": [
       "110"
      ]
     },
     "execution_count": 60,
     "metadata": {},
     "output_type": "execute_result"
    }
   ],
   "source": [
    "len(new_G.edges)"
   ]
  },
  {
   "cell_type": "code",
   "execution_count": 61,
   "metadata": {},
   "outputs": [
    {
     "name": "stderr",
     "output_type": "stream",
     "text": [
      "100%|██████████| 100/100 [00:00<00:00, 10008.36it/s]\n"
     ]
    },
    {
     "data": {
      "text/plain": [
       "0.9190476190476178"
      ]
     },
     "execution_count": 61,
     "metadata": {},
     "output_type": "execute_result"
    }
   ],
   "source": [
    "tot_PageRank = PageRank(new_G)\n",
    "sum(tot_PageRank.values())"
   ]
  },
  {
   "cell_type": "code",
   "execution_count": 62,
   "metadata": {},
   "outputs": [
    {
     "data": {
      "text/plain": [
       "0.9999999999999998"
      ]
     },
     "execution_count": 62,
     "metadata": {},
     "output_type": "execute_result"
    }
   ],
   "source": [
    "sum(nx.pagerank(new_G, alpha = 0.85).values())"
   ]
  }
 ],
 "metadata": {
  "kernelspec": {
   "display_name": "Python 3",
   "language": "python",
   "name": "python3"
  },
  "language_info": {
   "codemirror_mode": {
    "name": "ipython",
    "version": 3
   },
   "file_extension": ".py",
   "mimetype": "text/x-python",
   "name": "python",
   "nbconvert_exporter": "python",
   "pygments_lexer": "ipython3",
   "version": "3.8.3"
  }
 },
 "nbformat": 4,
 "nbformat_minor": 4
}
